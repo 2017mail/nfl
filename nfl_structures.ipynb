{
 "cells": [
  {
   "cell_type": "code",
   "execution_count": 51,
   "metadata": {
    "collapsed": false
   },
   "outputs": [],
   "source": [
    "import numpy as np\n",
    "class team:\n",
    "    def __init__(self, name, Passers,Rushers):\n",
    "        self.name = name\n",
    "        self.Passers = Passers\n",
    "        self.Rushers = Rushers\n",
    "#new_england = team(Passer_data['T.Brady'][0]['posteam'],set([]),set([]))\n",
    "\n"
   ]
  },
  {
   "cell_type": "code",
   "execution_count": 83,
   "metadata": {
    "collapsed": true
   },
   "outputs": [],
   "source": [
    "brady_passes_probability_list = [0.0, 0.0, 0.0, 0.0, 0.0, 0.0, 0.0, 0.0, 0.0, 0.0, 0.0, 0.0, 0.0, 0.0, 0.0, 0.0, 0.0, 0.0, 0.0, 0.0, 0.0, 0.0, 0.0, 0.0, 0.0, 0.0, 0.0, 0.0, 0.0, 0.0, 0.0, 0.0, 0.0, 0.0, 0.0, 0.0, 0.0, 0.0, 0.0, 0.0, 0.0, 0.0, 0.0, 0.0, 0.0, 0.0, 0.0, 0.0, 0.0, 0.0, 0.0, 0.0, 0.0, 0.0, 0.0, 0.0, 0.0, 0.0, 0.0, 0.0, 0.0, 0.0, 0.0, 0.0, 0.0, 0.0, 0.0, 0.0, 0.0, 0.0, 0.0, 0.0, 0.0, 0.0, 0.0, 0.0, 0.0, 0.0, 0.0, 0.0, 0.0, 0.0, 0.0, 0.0, 0.0, 0.0, 0.0, 0.0, 0.0, 0.0, 0.0, 0.0, 0.0, 0.0, 0.0, 0.0045045045045045045, 0.0, 0.0015015015015015015, 0.0045045045045045045, 0.0045045045045045045, 0.36486486486486486, 0.024024024024024024, 0.02252252252252252, 0.018018018018018018, 0.025525525525525526, 0.04054054054054054, 0.04354354354354354, 0.04054054054054054, 0.046546546546546545, 0.03753753753753754, 0.03453453453453453, 0.036036036036036036, 0.03453453453453453, 0.021021021021021023, 0.02252252252252252, 0.013513513513513514, 0.016516516516516516, 0.009009009009009009, 0.012012012012012012, 0.016516516516516516, 0.009009009009009009, 0.006006006006006006, 0.0075075075075075074, 0.006006006006006006, 0.010510510510510511, 0.006006006006006006, 0.0045045045045045045, 0.009009009009009009, 0.003003003003003003, 0.003003003003003003, 0.006006006006006006, 0.0015015015015015015, 0.0, 0.0045045045045045045, 0.0015015015015015015, 0.003003003003003003, 0.0015015015015015015, 0.0, 0.0, 0.0015015015015015015, 0.0015015015015015015, 0.0015015015015015015, 0.0, 0.0015015015015015015, 0.0, 0.0015015015015015015, 0.0, 0.0015015015015015015, 0.0015015015015015015, 0.0, 0.0, 0.0015015015015015015, 0.0015015015015015015, 0.0, 0.0015015015015015015, 0.0, 0.0, 0.0, 0.0, 0.0015015015015015015, 0.0, 0.0, 0.0, 0.0015015015015015015, 0.0, 0.0, 0.0, 0.0, 0.0015015015015015015, 0.0, 0.0015015015015015015, 0.0, 0.0, 0.0, 0.0, 0.0, 0.0015015015015015015, 0.0, 0.0, 0.0, 0.0, 0.0, 0.0, 0.0, 0.0, 0.0, 0.0, 0.0, 0.0, 0.0, 0.0, 0.0, 0.0, 0.0, 0.0, 0.0, 0.0, 0.0, 0.0, 0.0, 0.0]"
   ]
  },
  {
   "cell_type": "code",
   "execution_count": 160,
   "metadata": {
    "collapsed": false
   },
   "outputs": [],
   "source": [
    "class game:\n",
    "    def __init__(self,team1,team2):\n",
    "        self.team1 = team1\n",
    "        self.team2 = team2\n",
    "        self.plays = []\n",
    "        self.state = {}\n",
    "    def reset(self):\n",
    "        self.state = {'score':{self.team1:0,self.team2:0}, 'play_clock':3600, 'ball_position': 0,'down':1, 'ydstogo' : 10, 'possession':self.team1, 'new_drive':True}\n",
    "    def touchdown(self,team):\n",
    "        self.state['score'][team] += 6\n",
    "        if team == self.team1:\n",
    "            self.state['possession'] = self.team2\n",
    "            self.state['ball_position'] = 100\n",
    "        else:\n",
    "            self.state['possession'] = self.team1\n",
    "            self.state['ball_position'] = 0\n",
    "        self.state['new_drive'] = True\n",
    "\n",
    "    def choose_play(self,team):\n",
    "        return {'play_type':'Pass', 'team' :team, 'player':'T.Brady'}\n",
    "\n",
    "    def make_play(self,play):\n",
    "        print(self.state)\n",
    "        if self.state['play_clock'] <= 0:\n",
    "            print('Game over. The score is:' + team1 + \": \"+ self.state['score'][team1]+\", \"+team2+\": \"+self.state['score'][team2])\n",
    "        else: \n",
    "            if self.state['down'] <= 4:\n",
    "                self.state['new_drive'] = False\n",
    "                self.state['down'] += 1\n",
    "                \n",
    "                play = self.choose_play(self.state['possession'])\n",
    "                self.plays.append(play)\n",
    "                play_type = play['play_type']\n",
    "                yards_gained =  np.random.choice(range(-100,101), p = brady_passes_probability_list)\n",
    "                    # (THE REAL DISTRIBUTION) np.random.choice(range(-100,101), p = eval(playtype+'er_dist'+'['+'\"'+play[player]+'\"'+']'))\n",
    "                \n",
    "                self.state['ydstogo'] -= yards_gained\n",
    "                print(yards_gained)\n",
    "                # New first down?\n",
    "                if self.state['ydstogo'] <= 0:\n",
    "                    self.state['down'] = 1\n",
    "                    self.state['ydstogo'] = 10\n",
    "                    \n",
    "                self.state['play_clock'] -= 20\n",
    "            \n",
    "                #To take into account of turnovers, other possibilities; not yet implemented\n",
    "                anomalous_outcome = False\n",
    "        \n",
    "                # Move ball position\n",
    "                if play['team'] == self.team1:\n",
    "                    if self.state['ball_position'] + yards_gained >= 100:\n",
    "                        self.touchdown(play['team'])\n",
    "                    else:\n",
    "                        self.state['ball_position'] += yards_gained\n",
    "                \n",
    "                if play['team'] == self.team2:\n",
    "                    if self.state['ball_position'] - yards_gained <= 0:\n",
    "                        self.touchdown(play['team'])\n",
    "                    else:\n",
    "                        self.state['ball_position'] -= yards_gained\n",
    "            else:\n",
    "                # No more downs, the team has turned over the ball.\n",
    "                self.state['down'] = 1\n",
    "                self.state['new_drive'] = True\n",
    "                print(self.state['possession'])\n",
    "                if self.state['possession'] == self.team1:\n",
    "                    self.state['possession'] == self.team2\n",
    "                if self.state['possession'] == self.team2:\n",
    "                    self.state['possession'] == self.team1       \n",
    "        "
   ]
  },
  {
   "cell_type": "code",
   "execution_count": 168,
   "metadata": {
    "collapsed": false
   },
   "outputs": [],
   "source": [
    "test_game = game('NE','ATL')\n",
    "test_game.reset()"
   ]
  },
  {
   "cell_type": "code",
   "execution_count": 169,
   "metadata": {
    "collapsed": false
   },
   "outputs": [
    {
     "name": "stdout",
     "output_type": "stream",
     "text": [
      "{'play_clock': 3600, 'ball_position': 0, 'possession': 'NE', 'new_drive': True, 'ydstogo': 10, 'down': 1, 'score': {'ATL': 0, 'NE': 0}}\n",
      "NE\n"
     ]
    }
   ],
   "source": [
    "print(test_game.state)\n",
    "print(test_game.team1)"
   ]
  },
  {
   "cell_type": "code",
   "execution_count": 170,
   "metadata": {
    "collapsed": false
   },
   "outputs": [
    {
     "name": "stdout",
     "output_type": "stream",
     "text": [
      "{'play_clock': 3600, 'ball_position': 0, 'possession': 'NE', 'new_drive': True, 'ydstogo': 10, 'down': 1, 'score': {'ATL': 0, 'NE': 0}}\n",
      "-1\n",
      "{'play_clock': 3580, 'ball_position': -1, 'possession': 'NE', 'new_drive': False, 'ydstogo': 11, 'down': 2, 'score': {'ATL': 0, 'NE': 0}}\n",
      "12\n",
      "{'play_clock': 3560, 'ball_position': 11, 'possession': 'NE', 'new_drive': False, 'ydstogo': 10, 'down': 1, 'score': {'ATL': 0, 'NE': 0}}\n",
      "0\n",
      "{'play_clock': 3540, 'ball_position': 11, 'possession': 'NE', 'new_drive': False, 'ydstogo': 10, 'down': 2, 'score': {'ATL': 0, 'NE': 0}}\n",
      "8\n",
      "{'play_clock': 3520, 'ball_position': 19, 'possession': 'NE', 'new_drive': False, 'ydstogo': 2, 'down': 3, 'score': {'ATL': 0, 'NE': 0}}\n",
      "16\n",
      "{'play_clock': 3500, 'ball_position': 35, 'possession': 'NE', 'new_drive': False, 'ydstogo': 10, 'down': 1, 'score': {'ATL': 0, 'NE': 0}}\n",
      "0\n",
      "{'play_clock': 3480, 'ball_position': 35, 'possession': 'NE', 'new_drive': False, 'ydstogo': 10, 'down': 2, 'score': {'ATL': 0, 'NE': 0}}\n",
      "11\n",
      "{'play_clock': 3460, 'ball_position': 46, 'possession': 'NE', 'new_drive': False, 'ydstogo': 10, 'down': 1, 'score': {'ATL': 0, 'NE': 0}}\n",
      "3\n",
      "{'play_clock': 3440, 'ball_position': 49, 'possession': 'NE', 'new_drive': False, 'ydstogo': 7, 'down': 2, 'score': {'ATL': 0, 'NE': 0}}\n",
      "12\n",
      "{'play_clock': 3420, 'ball_position': 61, 'possession': 'NE', 'new_drive': False, 'ydstogo': 10, 'down': 1, 'score': {'ATL': 0, 'NE': 0}}\n",
      "5\n",
      "{'play_clock': 3400, 'ball_position': 66, 'possession': 'NE', 'new_drive': False, 'ydstogo': 5, 'down': 2, 'score': {'ATL': 0, 'NE': 0}}\n",
      "0\n",
      "{'play_clock': 3380, 'ball_position': 66, 'possession': 'NE', 'new_drive': False, 'ydstogo': 5, 'down': 3, 'score': {'ATL': 0, 'NE': 0}}\n",
      "11\n",
      "{'play_clock': 3360, 'ball_position': 77, 'possession': 'NE', 'new_drive': False, 'ydstogo': 10, 'down': 1, 'score': {'ATL': 0, 'NE': 0}}\n",
      "0\n",
      "{'play_clock': 3340, 'ball_position': 77, 'possession': 'NE', 'new_drive': False, 'ydstogo': 10, 'down': 2, 'score': {'ATL': 0, 'NE': 0}}\n",
      "0\n",
      "{'play_clock': 3320, 'ball_position': 77, 'possession': 'NE', 'new_drive': False, 'ydstogo': 10, 'down': 3, 'score': {'ATL': 0, 'NE': 0}}\n",
      "0\n",
      "{'play_clock': 3300, 'ball_position': 77, 'possession': 'NE', 'new_drive': False, 'ydstogo': 10, 'down': 4, 'score': {'ATL': 0, 'NE': 0}}\n",
      "59\n",
      "{'play_clock': 3280, 'ball_position': 100, 'possession': 'ATL', 'new_drive': True, 'ydstogo': 10, 'down': 1, 'score': {'ATL': 0, 'NE': 6}}\n",
      "17\n",
      "{'play_clock': 3260, 'ball_position': 83, 'possession': 'ATL', 'new_drive': False, 'ydstogo': 10, 'down': 1, 'score': {'ATL': 0, 'NE': 6}}\n",
      "4\n",
      "{'play_clock': 3240, 'ball_position': 79, 'possession': 'ATL', 'new_drive': False, 'ydstogo': 6, 'down': 2, 'score': {'ATL': 0, 'NE': 6}}\n",
      "0\n",
      "{'play_clock': 3220, 'ball_position': 79, 'possession': 'ATL', 'new_drive': False, 'ydstogo': 6, 'down': 3, 'score': {'ATL': 0, 'NE': 6}}\n",
      "0\n",
      "{'play_clock': 3200, 'ball_position': 79, 'possession': 'ATL', 'new_drive': False, 'ydstogo': 6, 'down': 4, 'score': {'ATL': 0, 'NE': 6}}\n",
      "0\n",
      "{'play_clock': 3180, 'ball_position': 79, 'possession': 'ATL', 'new_drive': False, 'ydstogo': 6, 'down': 5, 'score': {'ATL': 0, 'NE': 6}}\n",
      "ATL\n",
      "{'play_clock': 3180, 'ball_position': 79, 'possession': 'ATL', 'new_drive': True, 'ydstogo': 6, 'down': 1, 'score': {'ATL': 0, 'NE': 6}}\n",
      "0\n",
      "{'play_clock': 3160, 'ball_position': 79, 'possession': 'ATL', 'new_drive': False, 'ydstogo': 6, 'down': 2, 'score': {'ATL': 0, 'NE': 6}}\n",
      "11\n",
      "{'play_clock': 3140, 'ball_position': 68, 'possession': 'ATL', 'new_drive': False, 'ydstogo': 10, 'down': 1, 'score': {'ATL': 0, 'NE': 6}}\n",
      "11\n",
      "{'play_clock': 3120, 'ball_position': 57, 'possession': 'ATL', 'new_drive': False, 'ydstogo': 10, 'down': 1, 'score': {'ATL': 0, 'NE': 6}}\n",
      "0\n",
      "{'play_clock': 3100, 'ball_position': 57, 'possession': 'ATL', 'new_drive': False, 'ydstogo': 10, 'down': 2, 'score': {'ATL': 0, 'NE': 6}}\n",
      "43\n",
      "{'play_clock': 3080, 'ball_position': 14, 'possession': 'ATL', 'new_drive': False, 'ydstogo': 10, 'down': 1, 'score': {'ATL': 0, 'NE': 6}}\n",
      "7\n",
      "{'play_clock': 3060, 'ball_position': 7, 'possession': 'ATL', 'new_drive': False, 'ydstogo': 3, 'down': 2, 'score': {'ATL': 0, 'NE': 6}}\n",
      "0\n",
      "{'play_clock': 3040, 'ball_position': 7, 'possession': 'ATL', 'new_drive': False, 'ydstogo': 3, 'down': 3, 'score': {'ATL': 0, 'NE': 6}}\n",
      "8\n"
     ]
    }
   ],
   "source": [
    "for i in range(30):\n",
    "    play = test_game.choose_play(test_game.state['possession'])\n",
    "    test_game.make_play(play)\n",
    "    "
   ]
  },
  {
   "cell_type": "raw",
   "metadata": {},
   "source": [
    "print(test_game.plays)"
   ]
  },
  {
   "cell_type": "code",
   "execution_count": null,
   "metadata": {
    "collapsed": true
   },
   "outputs": [],
   "source": []
  },
  {
   "cell_type": "code",
   "execution_count": 116,
   "metadata": {
    "collapsed": true
   },
   "outputs": [],
   "source": [
    "                yards_gained =  np.random.choice(range(-100,101), p = brady_passes_probability_list)"
   ]
  },
  {
   "cell_type": "code",
   "execution_count": 117,
   "metadata": {
    "collapsed": false
   },
   "outputs": [
    {
     "name": "stdout",
     "output_type": "stream",
     "text": [
      "6\n"
     ]
    }
   ],
   "source": [
    "print(yards_gained)"
   ]
  },
  {
   "cell_type": "code",
   "execution_count": null,
   "metadata": {
    "collapsed": true
   },
   "outputs": [],
   "source": []
  }
 ],
 "metadata": {
  "kernelspec": {
   "display_name": "Python 3",
   "language": "python",
   "name": "python3"
  },
  "language_info": {
   "codemirror_mode": {
    "name": "ipython",
    "version": 3
   },
   "file_extension": ".py",
   "mimetype": "text/x-python",
   "name": "python",
   "nbconvert_exporter": "python",
   "pygments_lexer": "ipython3",
   "version": "3.5.2"
  }
 },
 "nbformat": 4,
 "nbformat_minor": 2
}
