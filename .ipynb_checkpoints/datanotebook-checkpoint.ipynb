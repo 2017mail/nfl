{
 "cells": [
  {
   "cell_type": "code",
   "execution_count": 1,
   "metadata": {
    "collapsed": false,
    "deletable": true,
    "editable": true
   },
   "outputs": [],
   "source": [
    "import numpy as np\n",
    "import csv,os\n",
    "import pandas as pd\n",
    "import collections as col\n",
    "import matplotlib.pyplot as pl\n",
    "pd.set_option(\"display.max_columns\",100)\n",
    "\n",
    "\n",
    "nfl = pd.read_csv('NFLPlaybyPlay2015.csv', index_col = False, low_memory=False)\n",
    "nfl.rename(columns = {nfl.columns[0] : 'playid'}, inplace=True)\n",
    "nfl.rename(columns = {nfl.columns[nfl.columns.get_loc('Yards.Gained')] : 'YardsGained' }, inplace=True)\n",
    "nfl.rename(columns = {nfl.columns[nfl.columns.get_loc('Penalty.Yards')] : 'PenaltyYards'}, inplace=True)\n",
    "#print(nfl.keys())\n",
    "\n",
    "Pass_or_Rush = nfl[['PassAttempt', 'RushAttempt','YardsGained','Receiver','Rusher','Passer','posteam','down','ydstogo']]"
   ]
  },
  {
   "cell_type": "code",
   "execution_count": 2,
   "metadata": {
    "collapsed": false,
    "deletable": true,
    "editable": true
   },
   "outputs": [
    {
     "name": "stdout",
     "output_type": "stream",
     "text": [
      "Yards per pass: 7.11328908782 ,  Yards per rush: 4.31436417728\n"
     ]
    }
   ],
   "source": [
    "Pass_attempts = sum([Pass_or_Rush.PassAttempt[i] for i in range(len(Pass_or_Rush))])\n",
    "Pass_yards = sum([Pass_or_Rush.PassAttempt[i]*Pass_or_Rush.YardsGained[i] for i in range(len(Pass_or_Rush))])\n",
    "Rush_attempts = sum([Pass_or_Rush.RushAttempt[i] for i in range(len(Pass_or_Rush))])\n",
    "Rush_yards =sum([Pass_or_Rush.RushAttempt[i]*Pass_or_Rush.YardsGained[i] for i in range(len(Pass_or_Rush))])\n",
    "\n",
    "print(\"Yards per pass:\", Pass_yards/Pass_attempts,\", \", \"Yards per rush:\",Rush_yards/Rush_attempts)"
   ]
  },
  {
   "cell_type": "code",
   "execution_count": 3,
   "metadata": {
    "collapsed": false,
    "deletable": true,
    "editable": true
   },
   "outputs": [],
   "source": [
    "Passes = Pass_or_Rush[Pass_or_Rush.PassAttempt == 1]\n",
    "Rushes = Pass_or_Rush[Pass_or_Rush.RushAttempt == 1]\n",
    "\n",
    "Rusher_data = col.defaultdict(list)\n",
    "len(Rushes)\n",
    "for i in Rushes.index:\n",
    "    temprush = {'YardsGained':Rushes.loc[i,'YardsGained'], 'posteam':Rushes.loc[i,'posteam'], 'down':Rushes.loc[i,'down'], 'ydstogo' : Rushes.loc[i,'ydstogo']}\n",
    "    Rusher_data[Rushes.loc[i,'Rusher']].append(temprush)\n",
    "    \n",
    "Passer_data = col.defaultdict(list)\n",
    "len(Passes)\n",
    "for i in Passes.index:\n",
    "    tempPass = {'YardsGained':Passes.loc[i,'YardsGained'], 'posteam':Passes.loc[i,'posteam'], 'down':Passes.loc[i,'down'], 'ydstogo' : Passes.loc[i,'ydstogo']}\n",
    "    Passer_data[Passes.loc[i,'Passer']].append(tempPass)"
   ]
  },
  {
   "cell_type": "code",
   "execution_count": 395,
   "metadata": {
    "collapsed": false,
    "deletable": true,
    "editable": true
   },
   "outputs": [
    {
     "name": "stdout",
     "output_type": "stream",
     "text": [
      "NE\n"
     ]
    }
   ],
   "source": []
  },
  {
   "cell_type": "code",
   "execution_count": 5,
   "metadata": {
    "collapsed": false,
    "deletable": true,
    "editable": true
   },
   "outputs": [
    {
     "name": "stdout",
     "output_type": "stream",
     "text": [
      "7.86186186186 10.6243029301 666\n"
     ]
    },
    {
     "data": {
      "image/png": "[encoded data removed]",
      "text/plain": [
       "<matplotlib.figure.Figure at 0x10dc0c7f0>"
      ]
     },
     "metadata": {},
     "output_type": "display_data"
    }
   ],
   "source": [
    "brady_rushes = [Rush['YardsGained'] for Rush in Rusher_data['T.Brady']]\n",
    "brady_passes = [Pass['YardsGained'] for Pass in Passer_data['T.Brady']]\n",
    "total_yards_Passer = sum(brady_passes)\n",
    "\n",
    "print(total_yards_Passer/len(Passer_data['T.Brady']), np.std([Pass['YardsGained'] for Pass in Passer_data['T.Brady']]),len(Passer_data['T.Brady']))\n",
    "\n",
    "brady_total_passes = len(Passer_data['T.Brady'])\n",
    "brady_passes_dist_counter = col.Counter(brady_passes)\n",
    "\n",
    "brady_passes_dist_list = [0]*201\n",
    "\n",
    "for yard in brady_passes_dist_counter:\n",
    "    brady_passes_dist_list[yard+100] = float(brady_passes_dist_counter[yard])  \n",
    "    \n",
    "brady_passes_probability_list = [count/brady_total_passes for count in brady_passes_dist_list]\n",
    "#print(brady_passes_probability_list, sum(brady_passes_probability_list))\n",
    "#pl.hist([Pass['YardsGained'] for Pass in Passers['T.Brady']], bins=range(-100,100))\n",
    "#pl.show()\n",
    "simulated_brady_passes = []\n",
    "for i in range(1000):\n",
    "    pass_length = np.random.choice(np.arange(-100,101), p = brady_passes_probability_list)\n",
    "    simulated_brady_passes.append(pass_length)\n",
    "    \n",
    "pl.hist(simulated_brady_passes, bins=range(-100,100))\n",
    "pl.show()"
   ]
  },
  {
   "cell_type": "code",
   "execution_count": 20,
   "metadata": {
    "collapsed": false,
    "deletable": true,
    "editable": true
   },
   "outputs": [],
   "source": [
    "class team:\n",
    "    def __init__(self, name, Passers,Rushers):\n",
    "        self.name = name\n",
    "        self.Passers = Passers\n",
    "        self.Rushers = Rushers\n",
    "new_england = team(Passer_data['T.Brady'][0]['posteam'],set([]),set([]))"
   ]
  },
  {
   "cell_type": "code",
   "execution_count": 25,
   "metadata": {
    "collapsed": false,
    "deletable": true,
    "editable": true
   },
   "outputs": [
    {
     "name": "stdout",
     "output_type": "stream",
     "text": [
      "BAL {'M.Schaub', 'S.Koch'} {'M.Schaub', 'J.Allen', 'J.Ross', 'J.Flacco', 'T.Magee', 'J.Forsett', 'K.Juszczyk', 'L.Taliaferro', 'M.Campanaro'} \n",
      "\n",
      "SD {'P.Rivers'} {'J.Herndon', 'D.Woodhead', 'B.Oliver', 'P.Rivers', 'D.Brown', 'M.Gordon'} \n",
      "\n",
      "NE {'J.Garoppolo', 'T.Brady'} {'B.Bolden', 'S.Jackson', 'L.Blount', 'J.White', 'D.Lewis', 'J.Iosefa', 'J.Edelman', 'T.Brady', 'B.LaFell', 'D.Amendola', 'K.Martin'} \n",
      "\n",
      "GB {'A.Rodgers'} {'R.Rodgers', 'J.Kuhn', 'S.Tolzien', 'J.Crockett', 'R.Cobb', 'T.Crawford', 'A.Rodgers', 'J.Starks', 'T.Montgomery', 'E.Lacy', 'T.Masthay', 'A.Harris'} \n",
      "\n",
      "BUF {'C.Hogan', 'T.Taylor'} {'L.McCoy', 'O.Vernon', 'D.Lowery', 'J.Jenkins', 'P.Harvin', 'J.Bromley', 'B.Grimes', 'B.Meriweather', 'A.Dixon', 'S.Watkins', 'D.Revis', 'R.Woods', 'E.Manuel', 'L.Williams', 'P.Amukamara', 'E.Walden', 'C.McCain', 'L.Ryan', 'D.Jackson', 'F.Zombo', 'K.Wynn', 'D.Herron', 'R.Incognito', 'D.Butler', 'Z.Kerr', 'C.Hogan', 'Ka.Williams', 'T.Wilson', 'K.Sheppard', 'C.Wood', 'T.Taylor', 'C.Schmidt', 'D.Davis', 'M.Cassel', 'R.Jones', 'T.Fede', 'M.Gillislee', 'J.Hankins', 'M.Brown', 'D.Rodgers', 'S.Bowen', 'U.Unga', 'M.Thomas', 'J.Beason', 'L.Collins', 'J.Felton', 'M.Wilkerson', 'N.Suh'} \n",
      "\n",
      "SEA {'T.Jackson'} {'R.Wilson', 'M.Lynch', 'D.Coleman', 'T.Lockett', 'R.Smith', 'T.Rawls', 'B.Brown', 'W.Tukuafu', 'F.Jackson'} \n",
      "\n",
      "CHI {'J.Cutler'} {'E.Royal', 'K.Carey', 'J.Clausen', 'M.Mariani', 'J.Langford', 'M.Forte', 'J.Rodgers', 'J.Cutler'} \n",
      "\n",
      "OAK {'D.Carr', 'R.Helu'} {'L.Murray', 'J.Olawale', 'M.McGloin', 'T.Jones', 'A.Cooper', 'D.Carr', 'M.King', 'M.Reece', 'R.Helu'} \n",
      "\n",
      "DEN {'B.Osweiler'} {'E.Sanders', 'A.Caldwell', 'C.Anderson', 'R.Hillman', 'J.Thompson', 'B.Osweiler', 'C.Latimer'} \n",
      "\n",
      "NYG {'R.Nassib'} {'D.Harris', 'A.Williams', 'O.Darkwa', 'R.Jennings', 'E.Manning', 'O.Beckham', 'S.Vereen'} \n",
      "\n",
      "SF {'B.Gabbert'} {'M.Davis', 'C.Hyde', 'C.Kaepernick', 'Q.Patton', 'P.Thomas', 'J.Hayne', 'T.Cadet', 'R.Bush', 'B.Gabbert', 'K.Gaskins', 'T.Carradine', 'B.Ellington', 'B.Miller'} \n",
      "\n",
      "ATL {'S.Renfree'} {'E.Weems', 'S.Renfree', 'T.Ward', 'P.DiMarco', 'M.Ryan', 'D.Freeman', 'T.Coleman'} \n",
      "\n",
      "KC {'C.Daniel', 'C.Santos', 'A.Smith'} {'J.Maclin', 'D.Poe', 'A.Wilson', 'A.Smith', 'D.Thomas', 'K.Davis', 'S.Ware', 'A.Sherman', 'C.West', 'J.Charles'} \n",
      "\n",
      "DAL {'M.Cassel', 'D.McFadden', 'K.Moore', 'T.Romo'} {'J.Randle', 'L.Whitehead', 'B.Weeden', 'L.Dunbar', 'K.Moore', 'D.McFadden', 'C.Michael', 'T.Romo'} \n",
      "\n",
      "TB {'J.Winston'} {'J.Lane', 'D.Martin', 'C.Sims', 'B.Rainey', 'J.Winston'} \n",
      "\n",
      "TEN {'Z.Mettenberger', 'A.Tanney', 'M.Mariota'} {'K.Wright', 'D.Cobb', 'B.Sankey', 'D.McCluster', 'D.Walker', 'T.West', 'J.Fowler', 'Z.Mettenberger', 'H.Douglas', 'M.Mariota', 'T.McBride', 'A.Andrews'} \n",
      "\n",
      "CAR {'D.Anderson'} {'F.Whittaker', 'B.Nortman', 'T.Ginn', 'J.Webb', 'C.Brown', 'M.Tolbert', 'C.Artis', 'C.Newton', 'D.Anderson', 'J.Cotchery'} \n",
      "\n",
      "MIA {'J.Landry', 'M.Moore'} {'J.Richards', 'L.Miller', 'J.Landry', 'C.Law', 'D.Williams', 'R.Tannehill', 'R.Matthews', 'J.Gray', 'J.Ajayi', 'J.Mayo'} \n",
      "\n",
      "IND {'R.Lindley', 'A.Luck', 'M.Hasselbeck'} {'M.Huff', 'P.Dorsett', 'A.Williamson', 'M.Hasselbeck', 'J.Robinson', 'T.Williams', 'P.McAfee', 'A.Bradshaw', 'C.Whitehurst', 'F.Gore', 'R.Succop', 'D.Allen', 'M.Griffin', 'C.Sensabaugh', 'A.Luck', 'T.Varga', 'Z.Tipton'} \n",
      "\n",
      "STL {'S.Mannion', 'N.Foles', 'J.Hekker'} {'J.Ryan', 'C.Keenum', 'T.Austin', 'I.Pead', 'T.Gurley', 'T.Mason', 'B.Cunningham', 'C.Givens', 'N.Foles', 'J.Hekker'} \n",
      "\n",
      "JAC {'B.Bortles'} {'J.Stewart', 'T.Yeldon', 'T.Washington', 'T.Alualu', 'T.Gerhart', 'B.Pierce', 'D.Robinson', 'M.Lee', 'B.Bortles', 'C.Grant'} \n",
      "\n",
      "PIT {'L.Jones', 'M.Vick'} {nan, 'D.Parry', 'C.Gaines', 'I.Williams', 'D.Bryant', 'H.Miller', 'R.Mathis', 'D.Shelton', 'M.Wilhoite', 'C.Jones', 'M.Te', 'S.Siliga', 'C.Mosley', 'P.Kruger', 'J.Newsome', 'A.Rubin', 'C.Dunlap', 'J.Todman', 'J.Attaochu', 'B.Irvin', 'C.Kirksey', 'De.Williams', 'D.Harmon', 'B.Fletcher', 'L.Asante', 'D.Ford', 'M.Edwards', 'C.Woodson', 'K.Dansby', 'P.Chung', 'M.Butler', 'T.McGill', 'A.Brown', 'A.Brooks', 'A.Bethea', 'N.Thorpe', 'M.Adams', 'V.Rey', 'T.Brown', 'W.Johnson', 'V.Davis', 'R.Ninkovich', 'J.Ellis', 'F.Toussaint', 'R.Nelson', 'E.Reid', 'G.Dorsey', 'E.Thomas', 'J.Sheard', 'A.Jones', 'A.Villanueva', 'G.Atkins', 'D.Smith', 'D.Hightower', 'B.Wagner', 'A.Bailey', 'B.Roethlisberger', 'L.Bell', 'D.Peko', 'A.Ogletree', 'C.Lofton', 'M.Vick', 'J.Collins', 'B.Mayowa', 'J.Poyer', 'S.Moore', 'A.Hawk', 'A.Branch', 'K.Acker', 'M.Bryant', 'D.Shead', 'D.Hayden', 'D.McCourty', 'N.Irving', 'K.Reyes', 'E.Berry', 'C.Robertson', 'X.Cooper', 'M.Smith', 'D.Bucannon'} \n",
      "\n",
      "WAS {'C.McCoy', 'J.Crowder'} {'J.Crowder', 'A.Morris', 'C.Thompson', 'D.Young', 'T.Way', 'M.Jones', 'K.Cousins'} \n",
      "\n",
      "NO {'T.Cadet', 'D.Brees'} {'M.Ingram', 'A.Johnson', 'M.Hoomanawanui', 'C.Spiller', 'K.Hunter', 'B.Cooks', 'K.Robinson', 'D.Brees', 'T.Hightower', 'M.Murphy'} \n",
      "\n",
      "PHI {'M.Sanchez'} {'S.Bradford', 'D.Jones', 'D.Murray', 'M.Sanchez', 'K.Barner', 'D.Sproles', 'R.Mathews'} \n",
      "\n",
      "NYJ {'G.Smith'} {'D.Searcy', 'R.Fitzpatrick', 'C.Ivory', 'Z.Stacy', 'J.Reitz', 'G.Smith', 'S.Ridley', 'T.Bohanon', 'B.Powell'} \n",
      "\n",
      "CLE {'J.Manziel', 'J.McCown'} {'R.Turbin', 'D.Johnson', 'T.Pryor', 'J.McCown', 'I.Crowell', 'G.Winston', 'J.Meder', 'J.Manziel', 'S.Draughn', 'A.Davis', 'T.Benjamin'} \n",
      "\n",
      "DET {'M.Stafford'} {'M.Burton', 'A.Abdullah', 'T.Riddick', 'J.Bell', 'M.Stafford', 'Z.Zenner', 'G.Tate', 'I.Abdul', 'G.Winn'} \n",
      "\n",
      "MIN {'S.Hill'} {'J.McKinnon', 'A.Thielen', 'C.Patterson', 'T.Bridgewater', 'J.Wright', 'S.Diggs', 'A.Peterson', 'J.Locke', 'Z.Line', 'M.Asiata', 'M.Wallace'} \n",
      "\n",
      "CIN {'A.McCarron'} {'R.Burkhead', 'A.Dalton', 'M.Sanu', 'A.McCarron', 'G.Bernard', 'J.Hill'} \n",
      "\n",
      "ARI {'C.Palmer'} {'C.Palmer', 'K.Williams', 'D.Dennard', 'D.Stanton', 'A.Ellington', 'C.Johnson', 'O.Brown', 'G.Iloka', 'J.Nelson', 'S.Taylor'} \n",
      "\n",
      "HOU {'J.Grimes', 'B.Daniels', 'B.Hoyer', 'R.Mallett'} {'J.Grimes', 'A.Hunt', 'A.Blue', 'B.Hoyer', 'J.Prosch', 'R.Mallett', 'B.Daniels', 'C.Polk', 'A.Foster', 'C.Shorts', 'T.Yates'} \n",
      "\n"
     ]
    }
   ],
   "source": [
    "new_england.Passers.add('T.Brady')\n",
    "nfl_teams = {}\n",
    "for Passer in Passer_data:\n",
    "    team_of_Passer = Passer_data[Passer][0]['posteam']\n",
    "    if team_of_Passer in nfl_teams:\n",
    "        nfl_teams[team_of_Passer].Passers.add(Passer)\n",
    "    else:\n",
    "        nfl_teams[team_of_Passer] = team(team_of_Passer,set([]),set([]))\n",
    "        \n",
    "#print(nfl_teams,\"\\n\") \n",
    "for Rusher in Rusher_data:\n",
    "    team_of_Rusher = Rusher_data[Rusher][0]['posteam']\n",
    "    if team_of_Rusher in nfl_teams:\n",
    "        nfl_teams[team_of_Rusher].Rushers.add(Rusher)\n",
    "    else:\n",
    "        nfl_teams[team_of_Rusher] = team(team_of_Rusher,set([]),set([]))\n",
    "        \n",
    "        \n",
    "for i in nfl_teams:\n",
    "    print(i, nfl_teams[i].Passers, nfl_teams[i].Rushers,\"\\n\")"
   ]
  },
  {
   "cell_type": "code",
   "execution_count": 34,
   "metadata": {
    "collapsed": false,
    "deletable": true,
    "editable": true
   },
   "outputs": [
    {
     "data": {
      "image/png": "[encoded data removed]",
      "text/plain": [
       "<matplotlib.figure.Figure at 0x10e68b470>"
      ]
     },
     "metadata": {},
     "output_type": "display_data"
    },
    {
     "name": "stdout",
     "output_type": "stream",
     "text": [
      "L.Dunbar , Rush attempts: 5 \n",
      " Max pass yards: 45  Min pass yards: 1 avg Rush yrds: 13.4 std: 16.007498243\n",
      "J.Kuhn , Rush attempts: 9 \n",
      " Max pass yards: 5  Min pass yards: 1 avg Rush yrds: 3.11111111111 std: 1.09994388185\n"
     ]
    },
    {
     "data": {
      "image/png": "[encoded data removed]",
      "text/plain": [
       "<matplotlib.figure.Figure at 0x10efb8048>"
      ]
     },
     "metadata": {},
     "output_type": "display_data"
    },
    {
     "name": "stdout",
     "output_type": "stream",
     "text": [
      "C.McCoy , Pass attempts: 11 \n",
      " Max pass yards: 71  Min pass yards: 0 avg Pass yrds: 11.6363636364 std: 20.0511741995\n",
      "S.Mannion , Pass attempts: 7 \n",
      " Max pass yards: 11  Min pass yards: 0 avg Pass yrds: 4.42857142857 std: 3.33197251134\n"
     ]
    }
   ],
   "source": [
    "avg_Rush = col.defaultdict(int)\n",
    "max_std = 0\n",
    "min_std = 100\n",
    "for Rusher in Rusher_data:\n",
    "    Rush_lengths = [rush['YardsGained'] for rush in Rusher_data[Rusher]]\n",
    "    total_yards = sum(Rush_lengths)\n",
    "    attempts = len(Rusher_data[Rusher])\n",
    "    std = np.std(Rush_lengths)\n",
    "#    print(std)\n",
    "    if attempts >= 5:\n",
    "        avg_Rush[Rusher] = (total_yards,attempts,total_yards/attempts, std)\n",
    "        pl.scatter(std,total_yards/attempts)\n",
    "        if std > max_std:\n",
    "            max_std=std\n",
    "            max_std_Rusher = Rusher\n",
    "        if std < min_std:\n",
    "            min_std = std\n",
    "            min_std_Rusher = Rusher\n",
    "pl.show()\n",
    "print(max_std_Rusher , \", Rush attempts:\" , len(Rusher_data[max_std_Rusher]), \"\\n\" ,\"Max pass yards:\", max([Rush['YardsGained'] for Rush in Rusher_data[max_std_Rusher]]) , \" Min pass yards:\" ,  min([Rush['YardsGained'] for Rush in Rusher_data[max_std_Rusher]]) , \"avg Rush yrds:\", avg_Rush[max_std_Rusher][2], \"std:\", np.std([Rush['YardsGained'] for Rush in Rusher_data[max_std_Rusher]]))\n",
    "print(min_std_Rusher , \", Rush attempts:\" , len(Rusher_data[min_std_Rusher]), \"\\n\" ,\"Max pass yards:\", max([Rush['YardsGained'] for Rush in Rusher_data[min_std_Rusher]]) , \" Min pass yards:\" ,  min([Rush['YardsGained'] for Rush in Rusher_data[min_std_Rusher]]) , \"avg Rush yrds:\", avg_Rush[min_std_Rusher][2], \"std:\", np.std([Rush['YardsGained'] for Rush in Rusher_data[min_std_Rusher]]))\n",
    "avg_Pass = col.defaultdict(int)\n",
    "max_std = 0\n",
    "min_std = 100\n",
    "for Passer in Passer_data:\n",
    "    Pass_lengths = [Rush['YardsGained'] for Rush in Passer_data[Passer]]\n",
    "    total_yards = sum(Pass_lengths)\n",
    "    attempts = len(Passer_data[Passer])\n",
    "    std = np.std(Pass_lengths)\n",
    "#    print(std)\n",
    "    if attempts >= 5:\n",
    "        avg_Pass[Passer] = (total_yards,attempts,total_yards/attempts, std)\n",
    "        pl.scatter(std,total_yards/attempts)\n",
    "        if std > max_std:\n",
    "            max_std=std\n",
    "            max_std_Passer = Passer\n",
    "        if std < min_std:\n",
    "            min_std = std\n",
    "            min_std_Passer = Passer\n",
    "pl.show()\n",
    "print(max_std_Passer , \", Pass attempts:\" , len(Passer_data[max_std_Passer]), \"\\n\" ,\"Max pass yards:\", max([Pass['YardsGained'] for Pass in Passer_data[max_std_Passer]]) , \" Min pass yards:\" ,  min([Pass['YardsGained'] for Pass in Passer_data[max_std_Passer]]) , \"avg Pass yrds:\", avg_Pass[max_std_Passer][2], \"std:\", np.std([Pass['YardsGained'] for Pass in Passer_data[max_std_Passer]]))\n",
    "print(min_std_Passer , \", Pass attempts:\" , len(Passer_data[min_std_Passer]), \"\\n\" ,\"Max pass yards:\", max([Pass['YardsGained'] for Pass in Passer_data[min_std_Passer]]) , \" Min pass yards:\" ,  min([Pass['YardsGained'] for Pass in Passer_data[min_std_Passer]]) , \"avg Pass yrds:\", avg_Pass[min_std_Passer][2], \"std:\", np.std([Pass['YardsGained'] for Pass in Passer_data[min_std_Passer]]))\n",
    "\n",
    "#print(avg_Pass.items())\n",
    "#yards = [avg_Pass[Passer][0] for Passer in avg_Pass]\n",
    "\n",
    "#attempts = [avg_Pass[Passer][1] for Passer in avg_Pass]\n",
    "\n",
    "#std = [avg_Pass[Passer][2] for Passer in avg_Pass]\n",
    "\n",
    "#value = [yards[i]/attempts[i] for i in range(len(yards))]"
   ]
  },
  {
   "cell_type": "code",
   "execution_count": 35,
   "metadata": {
    "collapsed": false,
    "deletable": true,
    "editable": true
   },
   "outputs": [
    {
     "data": {
      "text/plain": [
       "200"
      ]
     },
     "execution_count": 35,
     "metadata": {},
     "output_type": "execute_result"
    }
   ],
   "source": [
    "len(avg_Rush)"
   ]
  },
  {
   "cell_type": "code",
   "execution_count": 39,
   "metadata": {
    "collapsed": false,
    "deletable": true,
    "editable": true
   },
   "outputs": [
    {
     "data": {
      "text/plain": [
       "defaultdict(int,\n",
       "            {nan: (184, 57, 3.2280701754385963, 7.0288067512169237),\n",
       "             'C.Keenum': (11, 6, 1.8333333333333333, 1.4624940645653539),\n",
       "             'L.Murray': (1104, 265, 4.1660377358490566, 6.4879261854043353),\n",
       "             'M.Jones': (525, 149, 3.523489932885906, 5.7130298413380851),\n",
       "             'A.Blue': (698, 183, 3.8142076502732238, 4.731988029462852),\n",
       "             'C.Thompson': (216, 35, 6.1714285714285717, 9.8197634952192629),\n",
       "             'M.Lynch': (437, 111, 3.9369369369369371, 4.6076303328621471),\n",
       "             'T.Gerhart': (44, 20, 2.2000000000000002, 2.0149441679609885),\n",
       "             'R.Tannehill': (149, 25, 5.96, 6.3085973084355293),\n",
       "             'J.Ajayi': (187, 49, 3.8163265306122449, 5.7309523708587244),\n",
       "             'D.Carr': (150, 21, 7.1428571428571432, 6.2737982289588397),\n",
       "             'D.Harris': (211, 51, 4.1372549019607847, 7.9137993350486937),\n",
       "             'D.Freeman': (1109, 264, 4.2007575757575761, 6.2366098528272556),\n",
       "             'J.Randle': (312, 76, 4.1052631578947372, 6.3111825302987343),\n",
       "             'C.Hyde': (471, 116, 4.0603448275862073, 5.1499728708750601),\n",
       "             'B.Weeden': (55, 9, 6.1111111111111107, 2.8065179867366861),\n",
       "             'M.Forte': (898, 218, 4.1192660550458715, 4.356214101279595),\n",
       "             'D.Jackson': (29, 7, 4.1428571428571432, 5.0548017179868951),\n",
       "             'K.Wynn': (-4, 5, -0.80000000000000004, 4.0199502484483567),\n",
       "             'J.Winston': (213, 41, 5.1951219512195124, 5.0809040495503996),\n",
       "             'M.Adams': (52, 5, 10.4, 7.5524830353996828),\n",
       "             'K.Gaskins': (42, 14, 3.0, 4.1747540560578447),\n",
       "             'F.Jackson': (104, 26, 4.0, 3.3968311024337874),\n",
       "             'A.Abdullah': (602, 143, 4.20979020979021, 5.5266084224675049),\n",
       "             'F.Toussaint': (42, 18, 2.3333333333333335, 2.4494897427831783),\n",
       "             'L.Blount': (703, 165, 4.2606060606060607, 5.5594821752509427),\n",
       "             'T.Yeldon': (744, 181, 4.1104972375690609, 5.9089734435068939),\n",
       "             'A.Peterson': (1490, 327, 4.5565749235474007, 8.4467577631431023),\n",
       "             'O.Darkwa': (153, 37, 4.1351351351351351, 4.1405193704913597),\n",
       "             'D.Young': (14, 6, 2.3333333333333335, 1.699673171197595),\n",
       "             'T.Cadet': (28, 11, 2.5454545454545454, 2.0164611829835302),\n",
       "             'L.Bell': (556, 113, 4.9203539823008846, 7.1347852761413524),\n",
       "             'C.Newton': (666, 118, 5.6440677966101696, 6.5425924262803168),\n",
       "             'M.Gillislee': (267, 47, 5.6808510638297873, 11.904060424697084),\n",
       "             'M.Brown': (20, 5, 4.0, 4.9396356140913875),\n",
       "             'N.Foles': (32, 9, 3.5555555555555554, 2.9481109247603552),\n",
       "             'C.Spiller': (109, 36, 3.0277777777777777, 3.5236195966262298),\n",
       "             'T.Bridgewater': (199,\n",
       "              35,\n",
       "              5.6857142857142859,\n",
       "              5.2250573671296587),\n",
       "             'B.Cooks': (18, 7, 2.5714285714285716, 4.7466422073817567),\n",
       "             'A.Ellington': (252, 45, 5.5999999999999996, 9.9518842436997836),\n",
       "             'K.Robinson': (188, 56, 3.3571428571428572, 4.111953704178358),\n",
       "             'T.Hightower': (375, 96, 3.90625, 4.6683288520447368),\n",
       "             'D.Lewis': (234, 49, 4.7755102040816331, 4.5681475105853693),\n",
       "             'D.Brown': (231, 59, 3.9152542372881354, 7.7837033920034129),\n",
       "             'M.Asiata': (112, 29, 3.8620689655172415, 3.9803321463470556),\n",
       "             'M.Gordon': (641, 184, 3.4836956521739131, 5.0108312504429726),\n",
       "             'I.Crowell': (714, 185, 3.8594594594594596, 7.210482589069569),\n",
       "             'D.Johnson': (961, 231, 4.1601731601731604, 5.8852937242840992),\n",
       "             'J.Kuhn': (28, 9, 3.1111111111111112, 1.0999438818457405),\n",
       "             'P.Harvin': (31, 6, 5.166666666666667, 4.0994579587496141),\n",
       "             'C.Anderson': (714, 153, 4.666666666666667, 6.9442222186665532),\n",
       "             'C.Ivory': (1062, 247, 4.2995951417004052, 7.3318753806392101),\n",
       "             'M.Stafford': (179, 30, 5.9666666666666668, 4.1911281960297462),\n",
       "             'M.Sanchez': (23, 5, 4.5999999999999996, 3.6110940170535577),\n",
       "             'M.Tolbert': (261, 62, 4.209677419354839, 5.0549786916821997),\n",
       "             'J.Prosch': (33, 6, 5.5, 5.0579969684978394),\n",
       "             'E.Manning': (79, 11, 7.1818181818181817, 5.3226476975652535),\n",
       "             'J.Charles': (364, 71, 5.126760563380282, 5.8669030567993348),\n",
       "             'J.Clausen': (40, 10, 4.0, 4.3358966777357599),\n",
       "             'L.Whitehead': (107, 10, 10.699999999999999, 9.9403219263764289),\n",
       "             'M.Hasselbeck': (25, 7, 3.5714285714285716, 2.7701027756664738),\n",
       "             'J.McCown': (99, 19, 5.2105263157894735, 4.2868089882731022),\n",
       "             'T.Gurley': (1179, 231, 5.1038961038961039, 9.9538994715892279),\n",
       "             'A.Dalton': (153, 46, 3.3260869565217392, 3.2774217585997247),\n",
       "             'D.Williams': (259, 71, 3.647887323943662, 5.2328824673292216),\n",
       "             'J.Gray': (176, 45, 3.911111111111111, 5.0676412318080475),\n",
       "             'D.Herron': (79, 25, 3.1600000000000001, 2.3778982316322961),\n",
       "             'B.Brown': (80, 25, 3.2000000000000002, 3.9293765408776999),\n",
       "             'T.Ward': (95, 29, 3.2758620689655173, 4.3620348915120033),\n",
       "             'M.Ryan': (93, 23, 4.0434782608695654, 5.0431034343474863),\n",
       "             'C.Shorts': (48, 11, 4.3636363636363633, 3.6747968966195885),\n",
       "             'B.Miller': (13, 6, 2.1666666666666665, 1.3437096247164249),\n",
       "             'R.Turbin': (199, 50, 3.98, 5.1787643313825349),\n",
       "             'B.Oliver': (108, 31, 3.4838709677419355, 2.7104453596903237),\n",
       "             'J.Crockett': (21, 9, 2.3333333333333335, 5.9628479399994392),\n",
       "             'R.Cobb': (50, 13, 3.8461538461538463, 4.2759821875960906),\n",
       "             'K.Williams': (265, 56, 4.7321428571428568, 6.0606785081863439),\n",
       "             'B.Rainey': (18, 5, 3.6000000000000001, 3.0724582991474434),\n",
       "             'M.Sanu': (78, 10, 7.7999999999999998, 6.3529520697074355),\n",
       "             'A.Bradshaw': (95, 31, 3.064516129032258, 5.8195193453609351),\n",
       "             'B.Pierce': (11, 6, 1.8333333333333333, 1.3437096247164251),\n",
       "             'M.Cassel': (79, 15, 5.2666666666666666, 6.8358531939245797),\n",
       "             'Z.Zenner': (60, 17, 3.5294117647058822, 3.6156139672068961),\n",
       "             'C.Polk': (333, 98, 3.3979591836734695, 4.2130501721954445),\n",
       "             'A.Foster': (165, 63, 2.6190476190476191, 3.8438925848782031),\n",
       "             'M.Vick': (105, 14, 7.5, 5.9371710435189584),\n",
       "             'A.Hunt': (96, 17, 5.6470588235294121, 8.0727659555452487),\n",
       "             'D.Woodhead': (306, 97, 3.1546391752577319, 3.5706137570121284),\n",
       "             'R.Fitzpatrick': (288,\n",
       "              47,\n",
       "              6.1276595744680851,\n",
       "              5.4249895431866895),\n",
       "             'K.Carey': (161, 43, 3.7441860465116279, 3.2926487764999619),\n",
       "             'J.Rodgers': (50, 14, 3.5714285714285716, 2.8464084064530395),\n",
       "             'D.Coleman': (32, 8, 4.0, 6.103277807866851),\n",
       "             'M.Lee': (38, 5, 7.5999999999999996, 3.4985711369071799),\n",
       "             'J.Cutler': (207, 31, 6.67741935483871, 5.6818164790461925),\n",
       "             'R.Hillman': (838, 207, 4.0483091787439616, 6.8389043773949991),\n",
       "             'D.McFadden': (1097, 239, 4.5899581589958158, 6.8930308324297185),\n",
       "             'Z.Tipton': (20, 5, 4.0, 2.7568097504180442),\n",
       "             'J.McKinnon': (271, 52, 5.2115384615384617, 9.7296860145036757),\n",
       "             'J.Landry': (134, 17, 7.882352941176471, 8.1881000664966184),\n",
       "             'S.Bradford': (33, 14, 2.3571428571428572, 11.171437705513254),\n",
       "             'J.White': (56, 22, 2.5454545454545454, 2.9034035313947837),\n",
       "             'M.Davis': (61, 35, 1.7428571428571429, 3.0923209696911855),\n",
       "             'L.Miller': (872, 194, 4.4948453608247423, 8.2682147705263827),\n",
       "             'J.Iosefa': (51, 15, 3.3999999999999999, 3.6842005012394936),\n",
       "             'B.Gabbert': (180, 25, 7.2000000000000002, 8.2413591112146047),\n",
       "             'L.McCoy': (919, 204, 4.5049019607843137, 6.68147684524354),\n",
       "             'C.Sims': (535, 107, 5.0, 7.9766012953073604),\n",
       "             'J.Hayne': (52, 17, 3.0588235294117645, 3.1895156968766964),\n",
       "             'J.Flacco': (24, 12, 2.0, 4.2817441928883762),\n",
       "             'T.Lockett': (30, 5, 6.0, 2.8284271247461903),\n",
       "             'T.Rawls': (828, 148, 5.5945945945945947, 7.7143581802340346),\n",
       "             'C.Michael': (213, 54, 3.9444444444444446, 6.8998568602079002),\n",
       "             'K.Barner': (127, 28, 4.5357142857142856, 4.5707309735591597),\n",
       "             'G.Tate': (41, 6, 6.833333333333333, 5.4594464513864001),\n",
       "             'C.Grant': (10, 6, 1.6666666666666667, 5.8783973628494666),\n",
       "             'T.Coleman': (392, 87, 4.5057471264367814, 6.3243255298347298),\n",
       "             'D.Cobb': (167, 52, 3.2115384615384617, 4.6753713898615681),\n",
       "             'B.Cunningham': (130, 37, 3.5135135135135136, 6.9423168561294046),\n",
       "             'B.Osweiler': (67, 20, 3.3500000000000001, 2.7617928959282954),\n",
       "             'R.Jennings': (864, 195, 4.430769230769231, 5.6522359472297179),\n",
       "             'J.Starks': (606, 148, 4.0945945945945947, 7.286917041574001),\n",
       "             'D.Sproles': (317, 83, 3.8192771084337349, 5.0756792608827741),\n",
       "             'M.Reece': (36, 10, 3.6000000000000001, 3.4117444218463961),\n",
       "             'J.Grimes': (281, 56, 5.0178571428571432, 6.0044360726899582),\n",
       "             'J.Stewart': (972, 242, 4.0165289256198351, 5.4688954738327888),\n",
       "             'J.Olawale': (110, 24, 4.583333333333333, 4.581817931297091),\n",
       "             'R.Wilson': (595, 86, 6.9186046511627906, 7.2756604691466968),\n",
       "             'J.Bell': (311, 92, 3.3804347826086958, 6.0322365729332645),\n",
       "             'P.Thomas': (87, 15, 5.7999999999999998, 7.3502834412467841),\n",
       "             'T.Jones': (69, 16, 4.3125, 5.4166266024159357),\n",
       "             'S.Ware': (404, 71, 5.6901408450704229, 8.0466799194849017),\n",
       "             'C.Brown': (38, 6, 6.333333333333333, 8.5374989832437969),\n",
       "             'S.Draughn': (251, 77, 3.2597402597402598, 4.3764499561001813),\n",
       "             'B.Roethlisberger': (38,\n",
       "              6,\n",
       "              6.333333333333333,\n",
       "              3.7712361663282534),\n",
       "             'R.Jones': (37, 5, 7.4000000000000004, 3.4409301068170506),\n",
       "             'K.Cousins': (77, 15, 5.1333333333333337, 6.1521450640316413),\n",
       "             'J.Hill': (800, 224, 3.5714285714285716, 4.3613855222244906),\n",
       "             'S.Vereen': (261, 61, 4.278688524590164, 6.1461200543639887),\n",
       "             'J.Manziel': (222, 32, 6.9375, 6.7172236638361236),\n",
       "             'L.Taliaferro': (47, 13, 3.6153846153846154, 2.4031537464328165),\n",
       "             'R.Helu': (39, 17, 2.2941176470588234, 3.0824876486056239),\n",
       "             'T.Austin': (404, 50, 8.0800000000000001, 7.4453744029430782),\n",
       "             'J.Langford': (537, 150, 3.5800000000000001, 3.8837610637113094),\n",
       "             'A.Morris': (751, 202, 3.717821782178218, 5.5956648007451104),\n",
       "             'A.Davis': (26, 7, 3.7142857142857144, 7.1056172088262217),\n",
       "             'A.Williams': (255, 89, 2.8651685393258428, 4.5818180269701507),\n",
       "             'J.Fowler': (13, 8, 1.625, 1.2183492931011204),\n",
       "             'J.Thompson': (48, 18, 2.6666666666666665, 3.2829526005987018),\n",
       "             'K.Wright': (24, 7, 3.4285714285714284, 5.0386263110138279),\n",
       "             'F.Whittaker': (118, 25, 4.7199999999999998, 4.8868803955079567),\n",
       "             'R.Bush': (28, 8, 3.5, 3.5707142142714252),\n",
       "             'A.Smith': (500, 75, 6.666666666666667, 7.2779728557400434),\n",
       "             'Z.Stacy': (89, 31, 2.870967741935484, 4.1561608795887492),\n",
       "             'T.Mason': (192, 75, 2.5600000000000001, 3.5411485895586661),\n",
       "             'D.Murray': (696, 193, 3.6062176165803108, 6.3114635973130504),\n",
       "             'E.Lacy': (760, 187, 4.0641711229946527, 5.2627385291625401),\n",
       "             'A.Dixon': (44, 21, 2.0952380952380953, 2.7063375692157754),\n",
       "             'De.Williams': (21, 5, 4.2000000000000002, 3.3105890714493698),\n",
       "             'S.Jackson': (50, 21, 2.3809523809523809, 2.3191991736925561),\n",
       "             'B.Bortles': (301, 44, 6.8409090909090908, 6.2593318762620411),\n",
       "             'A.Andrews': (520, 143, 3.6363636363636362, 5.7018527899620457),\n",
       "             'E.Manuel': (66, 16, 4.125, 4.768057780690163),\n",
       "             'C.Johnson': (855, 195, 4.384615384615385, 7.5719298919079039),\n",
       "             'L.Dunbar': (67, 5, 13.4, 16.007498243010993),\n",
       "             'T.Riddick': (133, 43, 3.0930232558139537, 3.0713526562402516),\n",
       "             'A.McCarron': (37, 9, 4.1111111111111107, 4.6054181724583794),\n",
       "             'P.Rivers': (34, 11, 3.0909090909090908, 2.937362622073366),\n",
       "             'D.Robinson': (258, 67, 3.8507462686567164, 5.2183766313829523),\n",
       "             'R.Mathews': (539, 108, 4.9907407407407405, 8.1575860744716806),\n",
       "             'S.Taylor': (87, 17, 5.117647058823529, 8.5878323837801531),\n",
       "             'D.Martin': (1403, 288, 4.8715277777777777, 8.972226925308366),\n",
       "             'C.Artis': (182, 44, 4.1363636363636367, 6.5212621097554608),\n",
       "             'F.Gore': (1012, 258, 3.9224806201550386, 5.274058794904076),\n",
       "             'M.Bryant': (37, 5, 7.4000000000000004, 4.4090815370097207),\n",
       "             'D.Hightower': (42, 7, 6.0, 5.2644359350537941),\n",
       "             'C.Kaepernick': (283, 41, 6.9024390243902438, 3.9497136546335923),\n",
       "             'T.Taylor': (593, 88, 6.7386363636363633, 6.3897900061202364),\n",
       "             'T.Brady': (67, 20, 3.3500000000000001, 4.1746257317273372),\n",
       "             'A.Rodgers': (356, 46, 7.7391304347826084, 5.3585964361570904),\n",
       "             'Z.Mettenberger': (14, 5, 2.7999999999999998, 2.3151673805580448),\n",
       "             'S.Ridley': (90, 36, 2.5, 4.2849867107274804),\n",
       "             'J.Forsett': (665, 150, 4.4333333333333336, 6.0281745901134034),\n",
       "             'M.Mariota': (253, 33, 7.666666666666667, 15.302340218463847),\n",
       "             'G.Bernard': (732, 154, 4.7532467532467528, 5.0042990457318632),\n",
       "             'Z.Line': (10, 6, 1.6666666666666667, 1.1055415967851332),\n",
       "             'C.West': (668, 159, 4.2012578616352201, 5.774352177679515),\n",
       "             'K.Davis': (72, 28, 2.5714285714285716, 3.133101742780187),\n",
       "             'B.Bolden': (207, 63, 3.2857142857142856, 4.1228306327454032),\n",
       "             'M.Ingram': (770, 166, 4.6385542168674698, 8.0189208678982951),\n",
       "             'C.Palmer': (40, 8, 5.0, 3.8078865529319543),\n",
       "             'B.Sankey': (193, 47, 4.1063829787234045, 3.9959236812148018),\n",
       "             'J.Robinson': (42, 16, 2.625, 2.7810744326608736),\n",
       "             'D.McCluster': (247, 55, 4.4909090909090912, 7.2133026788836521),\n",
       "             'D.Thomas': (34, 9, 3.7777777777777777, 6.8763326430070233),\n",
       "             'T.West': (233, 61, 3.819672131147541, 4.4224027173179694),\n",
       "             'D.Brees': (30, 8, 3.75, 4.815340071064556),\n",
       "             'B.Hoyer': (52, 7, 7.4285714285714288, 6.2759664675682272),\n",
       "             'A.Luck': (191, 27, 7.0740740740740744, 5.9187456499318429),\n",
       "             'B.Powell': (309, 69, 4.4782608695652177, 5.7800473787040039),\n",
       "             'J.Allen': (515, 138, 3.7318840579710146, 5.414071648274005)})"
      ]
     },
     "execution_count": 39,
     "metadata": {},
     "output_type": "execute_result"
    }
   ],
   "source": [
    "avg_Rush"
   ]
  }
 ],
 "metadata": {
  "kernelspec": {
   "display_name": "Python 3",
   "language": "python",
   "name": "python3"
  },
  "language_info": {
   "codemirror_mode": {
    "name": "ipython",
    "version": 3
   },
   "file_extension": ".py",
   "mimetype": "text/x-python",
   "name": "python",
   "nbconvert_exporter": "python",
   "pygments_lexer": "ipython3",
   "version": "3.5.2"
  }
 },
 "nbformat": 4,
 "nbformat_minor": 2
}
