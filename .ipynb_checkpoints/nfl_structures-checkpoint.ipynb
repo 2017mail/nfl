{
 "cells": [
  {
   "cell_type": "code",
   "execution_count": 51,
   "metadata": {
    "collapsed": false
   },
   "outputs": [],
   "source": [
    "import numpy as np\n",
    "class team:\n",
    "    def __init__(self, name, Passers,Rushers):\n",
    "        self.name = name\n",
    "        self.Passers = Passers\n",
    "        self.Rushers = Rushers\n",
    "#new_england = team(Passer_data['T.Brady'][0]['posteam'],set([]),set([]))\n",
    "\n"
   ]
  },
  {
   "cell_type": "code",
   "execution_count": 83,
   "metadata": {
    "collapsed": true
   },
   "outputs": [],
   "source": [
    "brady_passes_probability_list = [0.0, 0.0, 0.0, 0.0, 0.0, 0.0, 0.0, 0.0, 0.0, 0.0, 0.0, 0.0, 0.0, 0.0, 0.0, 0.0, 0.0, 0.0, 0.0, 0.0, 0.0, 0.0, 0.0, 0.0, 0.0, 0.0, 0.0, 0.0, 0.0, 0.0, 0.0, 0.0, 0.0, 0.0, 0.0, 0.0, 0.0, 0.0, 0.0, 0.0, 0.0, 0.0, 0.0, 0.0, 0.0, 0.0, 0.0, 0.0, 0.0, 0.0, 0.0, 0.0, 0.0, 0.0, 0.0, 0.0, 0.0, 0.0, 0.0, 0.0, 0.0, 0.0, 0.0, 0.0, 0.0, 0.0, 0.0, 0.0, 0.0, 0.0, 0.0, 0.0, 0.0, 0.0, 0.0, 0.0, 0.0, 0.0, 0.0, 0.0, 0.0, 0.0, 0.0, 0.0, 0.0, 0.0, 0.0, 0.0, 0.0, 0.0, 0.0, 0.0, 0.0, 0.0, 0.0, 0.0045045045045045045, 0.0, 0.0015015015015015015, 0.0045045045045045045, 0.0045045045045045045, 0.36486486486486486, 0.024024024024024024, 0.02252252252252252, 0.018018018018018018, 0.025525525525525526, 0.04054054054054054, 0.04354354354354354, 0.04054054054054054, 0.046546546546546545, 0.03753753753753754, 0.03453453453453453, 0.036036036036036036, 0.03453453453453453, 0.021021021021021023, 0.02252252252252252, 0.013513513513513514, 0.016516516516516516, 0.009009009009009009, 0.012012012012012012, 0.016516516516516516, 0.009009009009009009, 0.006006006006006006, 0.0075075075075075074, 0.006006006006006006, 0.010510510510510511, 0.006006006006006006, 0.0045045045045045045, 0.009009009009009009, 0.003003003003003003, 0.003003003003003003, 0.006006006006006006, 0.0015015015015015015, 0.0, 0.0045045045045045045, 0.0015015015015015015, 0.003003003003003003, 0.0015015015015015015, 0.0, 0.0, 0.0015015015015015015, 0.0015015015015015015, 0.0015015015015015015, 0.0, 0.0015015015015015015, 0.0, 0.0015015015015015015, 0.0, 0.0015015015015015015, 0.0015015015015015015, 0.0, 0.0, 0.0015015015015015015, 0.0015015015015015015, 0.0, 0.0015015015015015015, 0.0, 0.0, 0.0, 0.0, 0.0015015015015015015, 0.0, 0.0, 0.0, 0.0015015015015015015, 0.0, 0.0, 0.0, 0.0, 0.0015015015015015015, 0.0, 0.0015015015015015015, 0.0, 0.0, 0.0, 0.0, 0.0, 0.0015015015015015015, 0.0, 0.0, 0.0, 0.0, 0.0, 0.0, 0.0, 0.0, 0.0, 0.0, 0.0, 0.0, 0.0, 0.0, 0.0, 0.0, 0.0, 0.0, 0.0, 0.0, 0.0, 0.0, 0.0, 0.0]"
   ]
  },
  {
   "cell_type": "code",
   "execution_count": 156,
   "metadata": {
    "collapsed": false
   },
   "outputs": [],
   "source": [
    "class game:\n",
    "    def __init__(self,team1,team2):\n",
    "        self.team1 = team1\n",
    "        self.team2 = team2\n",
    "        self.plays = []\n",
    "        self.state = {}\n",
    "    def reset(self):\n",
    "        self.state = {'score':{self.team1:0,self.team2:0}, 'play_clock':3600, 'ball_position': 0,'down':1, 'ydstogo' : 10, 'possession':self.team1, 'new_drive':True}\n",
    "    def touchdown(self,team):\n",
    "        self.state['score'][team] += 6\n",
    "        if team == team1:\n",
    "            self.state['possession'] = team2\n",
    "            self.state['ball_position'] = 100\n",
    "        else:\n",
    "            self.state['possession'] = team1\n",
    "            self.state['ball_position'] = 0\n",
    "        self.state['new_drive'] = True\n",
    "\n",
    "    def choose_play(self,team):\n",
    "        return {'play_type':'Pass', 'team' :team, 'player':'T.Brady'}\n",
    "\n",
    "    def make_play(self,play):\n",
    "        print(self.state)\n",
    "        if self.state['play_clock'] <= 0:\n",
    "            print('Game over. The score is:' + team1 + \": \"+ self.state['score'][team1]+\", \"+team2+\": \"+self.state['score'][team2])\n",
    "        else: \n",
    "            if self.state['down'] <= 4:\n",
    "                self.state['new_drive'] = False\n",
    "                self.state['down'] += 1\n",
    "                \n",
    "                play = self.choose_play(self.state['possession'])\n",
    "                self.plays.append(play)\n",
    "                play_type = play['play_type']\n",
    "                yards_gained =  np.random.choice(range(-100,101), p = brady_passes_probability_list)\n",
    "                    # (THE REAL DISTRIBUTION) np.random.choice(range(-100,101), p = eval(playtype+'er_dist'+'['+'\"'+play[player]+'\"'+']'))\n",
    "                \n",
    "                self.state['ydstogo'] -= yards_gained\n",
    "                print(yards_gained)\n",
    "                # New first down?\n",
    "                if self.state['ydstogo'] <= 0:\n",
    "                    self.state['down'] = 1\n",
    "                    self.state['ydstogo'] = 10\n",
    "                    \n",
    "                self.state['play_clock'] -= 20\n",
    "            \n",
    "                #To take into account of turnovers, other possibilities; not yet implemented\n",
    "                anomalous_outcome = False\n",
    "        \n",
    "                # Move ball position\n",
    "                if play['team'] == self.team1:\n",
    "                    if self.state['ball_position'] + yards_gained >= 100:\n",
    "                        self.touchdown(play['team'])\n",
    "                    else:\n",
    "                        self.state['ball_position'] += yards_gained\n",
    "                \n",
    "                if play['team'] == self.team2:\n",
    "                    if self.state['ball_position'] - yards_gained <= 0:\n",
    "                        self.touchdown(play['team'])\n",
    "                    else:\n",
    "                        self.state['ball_position'] -= yards_gained\n",
    "            else:\n",
    "                # No more downs, the team has turned over the ball.\n",
    "                self.state['down'] = 1\n",
    "                self.state['new_drive'] = True\n",
    "                print(self.state['possession'])\n",
    "                if self.state['possession'] == self.team1:\n",
    "                    self.state['possession'] == self.team2\n",
    "                if self.state['possession'] == self.team2:\n",
    "                    self.state['possession'] == self.team1       \n",
    "        "
   ]
  },
  {
   "cell_type": "code",
   "execution_count": 157,
   "metadata": {
    "collapsed": false
   },
   "outputs": [],
   "source": [
    "test_game = game('NE','ATL')\n",
    "test_game.reset()"
   ]
  },
  {
   "cell_type": "code",
   "execution_count": 158,
   "metadata": {
    "collapsed": false
   },
   "outputs": [
    {
     "name": "stdout",
     "output_type": "stream",
     "text": [
      "{'play_clock': 3600, 'ball_position': 0, 'possession': 'NE', 'new_drive': True, 'ydstogo': 10, 'down': 1, 'score': {'ATL': 0, 'NE': 0}}\n",
      "NE\n"
     ]
    }
   ],
   "source": [
    "print(test_game.state)\n",
    "print(test_game.team1)"
   ]
  },
  {
   "cell_type": "code",
   "execution_count": 159,
   "metadata": {
    "collapsed": false
   },
   "outputs": [
    {
     "name": "stdout",
     "output_type": "stream",
     "text": [
      "{'play_clock': 3600, 'ball_position': 0, 'possession': 'NE', 'new_drive': True, 'ydstogo': 10, 'down': 1, 'score': {'ATL': 0, 'NE': 0}}\n",
      "0\n",
      "{'play_clock': 3580, 'ball_position': 0, 'possession': 'NE', 'new_drive': False, 'ydstogo': 10, 'down': 2, 'score': {'ATL': 0, 'NE': 0}}\n",
      "0\n",
      "{'play_clock': 3560, 'ball_position': 0, 'possession': 'NE', 'new_drive': False, 'ydstogo': 10, 'down': 3, 'score': {'ATL': 0, 'NE': 0}}\n",
      "0\n",
      "{'play_clock': 3540, 'ball_position': 0, 'possession': 'NE', 'new_drive': False, 'ydstogo': 10, 'down': 4, 'score': {'ATL': 0, 'NE': 0}}\n",
      "4\n",
      "{'play_clock': 3520, 'ball_position': 4, 'possession': 'NE', 'new_drive': False, 'ydstogo': 6, 'down': 5, 'score': {'ATL': 0, 'NE': 0}}\n",
      "NE\n",
      "{'play_clock': 3520, 'ball_position': 4, 'possession': 'NE', 'new_drive': True, 'ydstogo': 6, 'down': 1, 'score': {'ATL': 0, 'NE': 0}}\n",
      "5\n",
      "{'play_clock': 3500, 'ball_position': 9, 'possession': 'NE', 'new_drive': False, 'ydstogo': 1, 'down': 2, 'score': {'ATL': 0, 'NE': 0}}\n",
      "33\n",
      "{'play_clock': 3480, 'ball_position': 42, 'possession': 'NE', 'new_drive': False, 'ydstogo': 10, 'down': 1, 'score': {'ATL': 0, 'NE': 0}}\n",
      "0\n",
      "{'play_clock': 3460, 'ball_position': 42, 'possession': 'NE', 'new_drive': False, 'ydstogo': 10, 'down': 2, 'score': {'ATL': 0, 'NE': 0}}\n",
      "5\n",
      "{'play_clock': 3440, 'ball_position': 47, 'possession': 'NE', 'new_drive': False, 'ydstogo': 5, 'down': 3, 'score': {'ATL': 0, 'NE': 0}}\n",
      "7\n",
      "{'play_clock': 3420, 'ball_position': 54, 'possession': 'NE', 'new_drive': False, 'ydstogo': 10, 'down': 1, 'score': {'ATL': 0, 'NE': 0}}\n",
      "8\n",
      "{'play_clock': 3400, 'ball_position': 62, 'possession': 'NE', 'new_drive': False, 'ydstogo': 2, 'down': 2, 'score': {'ATL': 0, 'NE': 0}}\n",
      "0\n",
      "{'play_clock': 3380, 'ball_position': 62, 'possession': 'NE', 'new_drive': False, 'ydstogo': 2, 'down': 3, 'score': {'ATL': 0, 'NE': 0}}\n",
      "0\n",
      "{'play_clock': 3360, 'ball_position': 62, 'possession': 'NE', 'new_drive': False, 'ydstogo': 2, 'down': 4, 'score': {'ATL': 0, 'NE': 0}}\n",
      "0\n",
      "{'play_clock': 3340, 'ball_position': 62, 'possession': 'NE', 'new_drive': False, 'ydstogo': 2, 'down': 5, 'score': {'ATL': 0, 'NE': 0}}\n",
      "NE\n",
      "{'play_clock': 3340, 'ball_position': 62, 'possession': 'NE', 'new_drive': True, 'ydstogo': 2, 'down': 1, 'score': {'ATL': 0, 'NE': 0}}\n",
      "0\n",
      "{'play_clock': 3320, 'ball_position': 62, 'possession': 'NE', 'new_drive': False, 'ydstogo': 2, 'down': 2, 'score': {'ATL': 0, 'NE': 0}}\n",
      "33\n",
      "{'play_clock': 3300, 'ball_position': 95, 'possession': 'NE', 'new_drive': False, 'ydstogo': 10, 'down': 1, 'score': {'ATL': 0, 'NE': 0}}\n",
      "0\n",
      "{'play_clock': 3280, 'ball_position': 95, 'possession': 'NE', 'new_drive': False, 'ydstogo': 10, 'down': 2, 'score': {'ATL': 0, 'NE': 0}}\n",
      "12\n"
     ]
    },
    {
     "ename": "NameError",
     "evalue": "name 'team1' is not defined",
     "output_type": "error",
     "traceback": [
      "\u001b[0;31m---------------------------------------------------------------------------\u001b[0m",
      "\u001b[0;31mNameError\u001b[0m                                 Traceback (most recent call last)",
      "\u001b[0;32m<ipython-input-159-de3124004693>\u001b[0m in \u001b[0;36m<module>\u001b[0;34m()\u001b[0m\n\u001b[1;32m      1\u001b[0m \u001b[0;32mfor\u001b[0m \u001b[0mi\u001b[0m \u001b[0;32min\u001b[0m \u001b[0mrange\u001b[0m\u001b[0;34m(\u001b[0m\u001b[0;36m20\u001b[0m\u001b[0;34m)\u001b[0m\u001b[0;34m:\u001b[0m\u001b[0;34m\u001b[0m\u001b[0m\n\u001b[1;32m      2\u001b[0m     \u001b[0mplay\u001b[0m \u001b[0;34m=\u001b[0m \u001b[0mtest_game\u001b[0m\u001b[0;34m.\u001b[0m\u001b[0mchoose_play\u001b[0m\u001b[0;34m(\u001b[0m\u001b[0mtest_game\u001b[0m\u001b[0;34m.\u001b[0m\u001b[0mstate\u001b[0m\u001b[0;34m[\u001b[0m\u001b[0;34m'possession'\u001b[0m\u001b[0;34m]\u001b[0m\u001b[0;34m)\u001b[0m\u001b[0;34m\u001b[0m\u001b[0m\n\u001b[0;32m----> 3\u001b[0;31m     \u001b[0mtest_game\u001b[0m\u001b[0;34m.\u001b[0m\u001b[0mmake_play\u001b[0m\u001b[0;34m(\u001b[0m\u001b[0mplay\u001b[0m\u001b[0;34m)\u001b[0m\u001b[0;34m\u001b[0m\u001b[0m\n\u001b[0m",
      "\u001b[0;32m<ipython-input-156-c620ae57f899>\u001b[0m in \u001b[0;36mmake_play\u001b[0;34m(self, play)\u001b[0m\n\u001b[1;32m     50\u001b[0m                 \u001b[0;32mif\u001b[0m \u001b[0mplay\u001b[0m\u001b[0;34m[\u001b[0m\u001b[0;34m'team'\u001b[0m\u001b[0;34m]\u001b[0m \u001b[0;34m==\u001b[0m \u001b[0mself\u001b[0m\u001b[0;34m.\u001b[0m\u001b[0mteam1\u001b[0m\u001b[0;34m:\u001b[0m\u001b[0;34m\u001b[0m\u001b[0m\n\u001b[1;32m     51\u001b[0m                     \u001b[0;32mif\u001b[0m \u001b[0mself\u001b[0m\u001b[0;34m.\u001b[0m\u001b[0mstate\u001b[0m\u001b[0;34m[\u001b[0m\u001b[0;34m'ball_position'\u001b[0m\u001b[0;34m]\u001b[0m \u001b[0;34m+\u001b[0m \u001b[0myards_gained\u001b[0m \u001b[0;34m>=\u001b[0m \u001b[0;36m100\u001b[0m\u001b[0;34m:\u001b[0m\u001b[0;34m\u001b[0m\u001b[0m\n\u001b[0;32m---> 52\u001b[0;31m                         \u001b[0mself\u001b[0m\u001b[0;34m.\u001b[0m\u001b[0mtouchdown\u001b[0m\u001b[0;34m(\u001b[0m\u001b[0mplay\u001b[0m\u001b[0;34m[\u001b[0m\u001b[0;34m'team'\u001b[0m\u001b[0;34m]\u001b[0m\u001b[0;34m)\u001b[0m\u001b[0;34m\u001b[0m\u001b[0m\n\u001b[0m\u001b[1;32m     53\u001b[0m                     \u001b[0;32melse\u001b[0m\u001b[0;34m:\u001b[0m\u001b[0;34m\u001b[0m\u001b[0m\n\u001b[1;32m     54\u001b[0m                         \u001b[0mself\u001b[0m\u001b[0;34m.\u001b[0m\u001b[0mstate\u001b[0m\u001b[0;34m[\u001b[0m\u001b[0;34m'ball_position'\u001b[0m\u001b[0;34m]\u001b[0m \u001b[0;34m+=\u001b[0m \u001b[0myards_gained\u001b[0m\u001b[0;34m\u001b[0m\u001b[0m\n",
      "\u001b[0;32m<ipython-input-156-c620ae57f899>\u001b[0m in \u001b[0;36mtouchdown\u001b[0;34m(self, team)\u001b[0m\n\u001b[1;32m      9\u001b[0m     \u001b[0;32mdef\u001b[0m \u001b[0mtouchdown\u001b[0m\u001b[0;34m(\u001b[0m\u001b[0mself\u001b[0m\u001b[0;34m,\u001b[0m\u001b[0mteam\u001b[0m\u001b[0;34m)\u001b[0m\u001b[0;34m:\u001b[0m\u001b[0;34m\u001b[0m\u001b[0m\n\u001b[1;32m     10\u001b[0m         \u001b[0mself\u001b[0m\u001b[0;34m.\u001b[0m\u001b[0mstate\u001b[0m\u001b[0;34m[\u001b[0m\u001b[0;34m'score'\u001b[0m\u001b[0;34m]\u001b[0m\u001b[0;34m[\u001b[0m\u001b[0mteam\u001b[0m\u001b[0;34m]\u001b[0m \u001b[0;34m+=\u001b[0m \u001b[0;36m6\u001b[0m\u001b[0;34m\u001b[0m\u001b[0m\n\u001b[0;32m---> 11\u001b[0;31m         \u001b[0;32mif\u001b[0m \u001b[0mteam\u001b[0m \u001b[0;34m==\u001b[0m \u001b[0mteam1\u001b[0m\u001b[0;34m:\u001b[0m\u001b[0;34m\u001b[0m\u001b[0m\n\u001b[0m\u001b[1;32m     12\u001b[0m             \u001b[0mself\u001b[0m\u001b[0;34m.\u001b[0m\u001b[0mstate\u001b[0m\u001b[0;34m[\u001b[0m\u001b[0;34m'possession'\u001b[0m\u001b[0;34m]\u001b[0m \u001b[0;34m=\u001b[0m \u001b[0mteam2\u001b[0m\u001b[0;34m\u001b[0m\u001b[0m\n\u001b[1;32m     13\u001b[0m             \u001b[0mself\u001b[0m\u001b[0;34m.\u001b[0m\u001b[0mstate\u001b[0m\u001b[0;34m[\u001b[0m\u001b[0;34m'ball_position'\u001b[0m\u001b[0;34m]\u001b[0m \u001b[0;34m=\u001b[0m \u001b[0;36m100\u001b[0m\u001b[0;34m\u001b[0m\u001b[0m\n",
      "\u001b[0;31mNameError\u001b[0m: name 'team1' is not defined"
     ]
    }
   ],
   "source": [
    "for i in range(20):\n",
    "    play = test_game.choose_play(test_game.state['possession'])\n",
    "    test_game.make_play(play)"
   ]
  },
  {
   "cell_type": "raw",
   "metadata": {},
   "source": [
    "print(test_game.plays)"
   ]
  },
  {
   "cell_type": "code",
   "execution_count": null,
   "metadata": {
    "collapsed": true
   },
   "outputs": [],
   "source": []
  },
  {
   "cell_type": "code",
   "execution_count": 116,
   "metadata": {
    "collapsed": true
   },
   "outputs": [],
   "source": [
    "                yards_gained =  np.random.choice(range(-100,101), p = brady_passes_probability_list)"
   ]
  },
  {
   "cell_type": "code",
   "execution_count": 117,
   "metadata": {
    "collapsed": false
   },
   "outputs": [
    {
     "name": "stdout",
     "output_type": "stream",
     "text": [
      "6\n"
     ]
    }
   ],
   "source": [
    "print(yards_gained)"
   ]
  },
  {
   "cell_type": "code",
   "execution_count": null,
   "metadata": {
    "collapsed": true
   },
   "outputs": [],
   "source": []
  }
 ],
 "metadata": {
  "kernelspec": {
   "display_name": "Python 3",
   "language": "python",
   "name": "python3"
  },
  "language_info": {
   "codemirror_mode": {
    "name": "ipython",
    "version": 3
   },
   "file_extension": ".py",
   "mimetype": "text/x-python",
   "name": "python",
   "nbconvert_exporter": "python",
   "pygments_lexer": "ipython3",
   "version": "3.5.2"
  }
 },
 "nbformat": 4,
 "nbformat_minor": 2
}
