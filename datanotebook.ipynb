{
 "cells": [
  {
   "cell_type": "code",
   "execution_count": 99,
   "metadata": {
    "collapsed": false,
    "deletable": true,
    "editable": true
   },
   "outputs": [],
   "source": [
    "import numpy as np\n",
    "import csv,os\n",
    "import pandas as pd\n",
    "import collections as col\n",
    "import matplotlib.pyplot as pl\n",
    "pd.set_option(\"display.max_columns\",100)\n",
    "\n",
    "# Parameters:\n",
    "min_plays = 10\n",
    "nfl = pd.read_csv('NFLPlaybyPlay2015.csv', index_col = False, low_memory=False)\n",
    "nfl.rename(columns = {nfl.columns[0] : 'playid'}, inplace=True)\n",
    "nfl.rename(columns = {nfl.columns[nfl.columns.get_loc('Yards.Gained')] : 'YardsGained' }, inplace=True)\n",
    "nfl.rename(columns = {nfl.columns[nfl.columns.get_loc('Penalty.Yards')] : 'PenaltyYards'}, inplace=True)\n",
    "#print(nfl.keys())\n",
    "\n",
    "\n",
    "Pass_or_Rush = nfl[['PassAttempt', 'RushAttempt','YardsGained','Receiver','Rusher','Passer','posteam','down','ydstogo','PlayTimeDiff']]"
   ]
  },
  {
   "cell_type": "code",
   "execution_count": 101,
   "metadata": {
    "collapsed": false
   },
   "outputs": [
    {
     "name": "stdout",
     "output_type": "stream",
     "text": [
      "{'ball_position': 0, 'new_drive': True, 'play_clock': 3600, 'score': {'team1': 0, 'team2': 0}, 'possession': 'NE', 'ydstogo': 10, 'down': 1}\n"
     ]
    }
   ],
   "source": [
    "%run nfl_structures.ipynb"
   ]
  },
  {
   "cell_type": "code",
   "execution_count": 102,
   "metadata": {
    "collapsed": false,
    "deletable": true,
    "editable": true
   },
   "outputs": [
    {
     "name": "stdout",
     "output_type": "stream",
     "text": [
      "Over entire dataset: \n",
      " Yards per pass: 7.11328908782 ,  Yards per rush: 4.31436417728\n"
     ]
    }
   ],
   "source": [
    "Pass_attempts = sum([Pass_or_Rush.PassAttempt[i] for i in range(len(Pass_or_Rush))])\n",
    "Pass_yards = sum([Pass_or_Rush.PassAttempt[i]*Pass_or_Rush.YardsGained[i] for i in range(len(Pass_or_Rush))])\n",
    "Rush_attempts = sum([Pass_or_Rush.RushAttempt[i] for i in range(len(Pass_or_Rush))])\n",
    "Rush_yards =sum([Pass_or_Rush.RushAttempt[i]*Pass_or_Rush.YardsGained[i] for i in range(len(Pass_or_Rush))])\n",
    "\n",
    "print(\"Over entire dataset:\",\"\\n\", \"Yards per pass:\", Pass_yards/Pass_attempts,\", \", \"Yards per rush:\",Rush_yards/Rush_attempts)"
   ]
  },
  {
   "cell_type": "code",
   "execution_count": 103,
   "metadata": {
    "collapsed": false,
    "deletable": true,
    "editable": true
   },
   "outputs": [],
   "source": [
    "Passes = Pass_or_Rush[Pass_or_Rush.PassAttempt == 1]\n",
    "Rushes = Pass_or_Rush[Pass_or_Rush.RushAttempt == 1]\n",
    "\n",
    "Rusher_data = col.defaultdict(list)\n",
    "len(Rushes)\n",
    "for i in Rushes.index:\n",
    "    temprush = {'YardsGained':Rushes.loc[i,'YardsGained'], 'posteam':Rushes.loc[i,'posteam'], 'down':Rushes.loc[i,'down'], 'ydstogo' : Rushes.loc[i,'ydstogo']}\n",
    "    Rusher_data[Rushes.loc[i,'Rusher']].append(temprush)\n",
    "    \n",
    "Passer_data = col.defaultdict(list)\n",
    "len(Passes)\n",
    "for i in Passes.index:\n",
    "    tempPass = {'YardsGained':Passes.loc[i,'YardsGained'], 'posteam':Passes.loc[i,'posteam'], 'down':Passes.loc[i,'down'], 'ydstogo' : Passes.loc[i,'ydstogo']}\n",
    "    Passer_data[Passes.loc[i,'Passer']].append(tempPass)"
   ]
  },
  {
   "cell_type": "code",
   "execution_count": 104,
   "metadata": {
    "collapsed": false,
    "deletable": true,
    "editable": true
   },
   "outputs": [],
   "source": [
    "Rusher_stats = col.defaultdict(lambda: col.defaultdict(float))\n",
    "max_std = 0\n",
    "min_std = 100\n",
    "for Rusher in Rusher_data:\n",
    "    Rush_lengths = [rush['YardsGained'] for rush in Rusher_data[Rusher]]\n",
    "    total_yards = sum(Rush_lengths)\n",
    "    attempts = len(Rusher_data[Rusher])\n",
    "    std = np.std(Rush_lengths)\n",
    "#    print(std)\n",
    "    if attempts >= min_plays:\n",
    "        Rusher_stats[Rusher] = {'total_yards':total_yards,'attempts':attempts,'avg_yards':total_yards/attempts, 'std':std}\n",
    "        pl.scatter(std,total_yards/attempts)\n",
    "        if std > max_std:\n",
    "            max_std=std\n",
    "            max_std_Rusher = Rusher\n",
    "        if std < min_std:\n",
    "            min_std = std\n",
    "            min_std_Rusher = Rusher\n",
    "#pl.show()\n",
    "#print(max_std_Rusher , \", Rush attempts:\" , len(Rusher_data[max_std_Rusher]), \"\\n\" ,\"Max pass yards:\", max([Rush['YardsGained'] for Rush in Rusher_data[max_std_Rusher]]) , \" Min pass yards:\" ,  min([Rush['YardsGained'] for Rush in Rusher_data[max_std_Rusher]]) , \"avg Rush yrds:\", Rusher_stats[max_std_Rusher]['avg_yards'], \"std:\", np.std([Rush['YardsGained'] for Rush in Rusher_data[max_std_Rusher]]))\n",
    "#print(min_std_Rusher , \", Rush attempts:\" , len(Rusher_data[min_std_Rusher]), \"\\n\" ,\"Max pass yards:\", max([Rush['YardsGained'] for Rush in Rusher_data[min_std_Rusher]]) , \" Min pass yards:\" ,  min([Rush['YardsGained'] for Rush in Rusher_data[min_std_Rusher]]) , \"avg Rush yrds:\", Rusher_stats[min_std_Rusher]['avg_yards'], \"std:\", np.std([Rush['YardsGained'] for Rush in Rusher_data[min_std_Rusher]]))\n",
    "\n",
    "Passer_stats = col.defaultdict(lambda: col.defaultdict(float))\n",
    "max_std = 0\n",
    "min_std = 100\n",
    "for Passer in Passer_data:\n",
    "    Pass_lengths = [Rush['YardsGained'] for Rush in Passer_data[Passer]]\n",
    "    total_yards = sum(Pass_lengths)\n",
    "    attempts = len(Passer_data[Passer])\n",
    "    std = np.std(Pass_lengths)\n",
    "#    print(std)\n",
    "    if attempts >= min_plays:\n",
    "        Passer_stats[Passer] = {'total_yards':total_yards,'attempts':attempts,'avg_yards':total_yards/attempts, 'std':std}\n",
    "        pl.scatter(std,total_yards/attempts)\n",
    "        if std > max_std:\n",
    "            max_std=std\n",
    "            max_std_Passer = Passer\n",
    "        if std < min_std:\n",
    "            min_std = std\n",
    "            min_std_Passer = Passer\n",
    "#pl.show()\n",
    "#print(max_std_Passer , \", Pass attempts:\" , len(Passer_data[max_std_Passer]), \"\\n\" ,\"Max pass yards:\", max([Pass['YardsGained'] for Pass in Passer_data[max_std_Passer]]) , \" Min pass yards:\" ,  min([Pass['YardsGained'] for Pass in Passer_data[max_std_Passer]]) , \"avg Pass yrds:\", Passer_stats[max_std_Passer]['avg_yards'], \"std:\", np.std([Pass['YardsGained'] for Pass in Passer_data[max_std_Passer]]))\n",
    "#print(min_std_Passer , \", Pass attempts:\" , len(Passer_data[min_std_Passer]), \"\\n\" ,\"Max pass yards:\", max([Pass['YardsGained'] for Pass in Passer_data[min_std_Passer]]) , \" Min pass yards:\" ,  min([Pass['YardsGained'] for Pass in Passer_data[min_std_Passer]]) , \"avg Pass yrds:\", Passer_stats[min_std_Passer]['avg_yards'], \"std:\", np.std([Pass['YardsGained'] for Pass in Passer_data[min_std_Passer]]))"
   ]
  },
  {
   "cell_type": "code",
   "execution_count": 107,
   "metadata": {
    "collapsed": false
   },
   "outputs": [
    {
     "name": "stdout",
     "output_type": "stream",
     "text": [
      "7.86186186186 10.6243029301 666\n"
     ]
    },
    {
     "data": {
      "image/png": "[encoded data removed]",
      "text/plain": [
       "<matplotlib.figure.Figure at 0x10ea83198>"
      ]
     },
     "metadata": {},
     "output_type": "display_data"
    },
    {
     "name": "stdout",
     "output_type": "stream",
     "text": [
      "[0.0, 0.0, 0.0, 0.0, 0.0, 0.0, 0.0, 0.0, 0.0, 0.0, 0.0, 0.0, 0.0, 0.0, 0.0, 0.0, 0.0, 0.0, 0.0, 0.0, 0.0, 0.0, 0.0, 0.0, 0.0, 0.0, 0.0, 0.0, 0.0, 0.0, 0.0, 0.0, 0.0, 0.0, 0.0, 0.0, 0.0, 0.0, 0.0, 0.0, 0.0, 0.0, 0.0, 0.0, 0.0, 0.0, 0.0, 0.0, 0.0, 0.0, 0.0, 0.0, 0.0, 0.0, 0.0, 0.0, 0.0, 0.0, 0.0, 0.0, 0.0, 0.0, 0.0, 0.0, 0.0, 0.0, 0.0, 0.0, 0.0, 0.0, 0.0, 0.0, 0.0, 0.0, 0.0, 0.0, 0.0, 0.0, 0.0, 0.0, 0.0, 0.0, 0.0, 0.0, 0.0, 0.0, 0.0, 0.0, 0.0, 0.0, 0.0, 0.0, 0.0, 0.0, 0.0, 0.0045045045045045045, 0.0, 0.0015015015015015015, 0.0045045045045045045, 0.0045045045045045045, 0.36486486486486486, 0.024024024024024024, 0.02252252252252252, 0.018018018018018018, 0.025525525525525526, 0.04054054054054054, 0.04354354354354354, 0.04054054054054054, 0.046546546546546545, 0.03753753753753754, 0.03453453453453453, 0.036036036036036036, 0.03453453453453453, 0.021021021021021023, 0.02252252252252252, 0.013513513513513514, 0.016516516516516516, 0.009009009009009009, 0.012012012012012012, 0.016516516516516516, 0.009009009009009009, 0.006006006006006006, 0.0075075075075075074, 0.006006006006006006, 0.010510510510510511, 0.006006006006006006, 0.0045045045045045045, 0.009009009009009009, 0.003003003003003003, 0.003003003003003003, 0.006006006006006006, 0.0015015015015015015, 0.0, 0.0045045045045045045, 0.0015015015015015015, 0.003003003003003003, 0.0015015015015015015, 0.0, 0.0, 0.0015015015015015015, 0.0015015015015015015, 0.0015015015015015015, 0.0, 0.0015015015015015015, 0.0, 0.0015015015015015015, 0.0, 0.0015015015015015015, 0.0015015015015015015, 0.0, 0.0, 0.0015015015015015015, 0.0015015015015015015, 0.0, 0.0015015015015015015, 0.0, 0.0, 0.0, 0.0, 0.0015015015015015015, 0.0, 0.0, 0.0, 0.0015015015015015015, 0.0, 0.0, 0.0, 0.0, 0.0015015015015015015, 0.0, 0.0015015015015015015, 0.0, 0.0, 0.0, 0.0, 0.0, 0.0015015015015015015, 0.0, 0.0, 0.0, 0.0, 0.0, 0.0, 0.0, 0.0, 0.0, 0.0, 0.0, 0.0, 0.0, 0.0, 0.0, 0.0, 0.0, 0.0, 0.0, 0.0, 0.0, 0.0, 0.0, 0.0]\n"
     ]
    }
   ],
   "source": [
    "brady_rushes = [Rush['YardsGained'] for Rush in Rusher_data['T.Brady']]\n",
    "brady_passes = [Pass['YardsGained'] for Pass in Passer_data['T.Brady']]\n",
    "total_yards_Passer = sum(brady_passes)\n",
    "\n",
    "print(total_yards_Passer/len(Passer_data['T.Brady']), np.std([Pass['YardsGained'] for Pass in Passer_data['T.Brady']]),len(Passer_data['T.Brady']))\n",
    "\n",
    "brady_total_passes = len(Passer_data['T.Brady'])\n",
    "brady_passes_dist_counter = col.Counter(brady_passes)\n",
    "\n",
    "brady_passes_dist_list = [0]*201\n",
    "\n",
    "for yard in brady_passes_dist_counter:\n",
    "    brady_passes_dist_list[yard+100] = float(brady_passes_dist_counter[yard])  \n",
    "    \n",
    "brady_passes_probability_list = [count/brady_total_passes for count in brady_passes_dist_list]\n",
    "#print(brady_passes_probability_list, sum(brady_passes_probability_list))\n",
    "#pl.hist([Pass['YardsGained'] for Pass in Passers['T.Brady']], bins=range(-100,100))\n",
    "#pl.show()\n",
    "simulated_brady_passes = []\n",
    "for i in range(1000):\n",
    "    pass_length = np.random.choice(np.arange(-100,101), p = brady_passes_probability_list)\n",
    "    simulated_brady_passes.append(pass_length)\n",
    "    \n",
    "pl.hist(simulated_brady_passes, bins=range(-100,100))\n",
    "pl.show()\n",
    "\n",
    "print(brady_passes_probability_list)"
   ]
  },
  {
   "cell_type": "code",
   "execution_count": null,
   "metadata": {
    "collapsed": true
   },
   "outputs": [],
   "source": []
  }
 ],
 "metadata": {
  "kernelspec": {
   "display_name": "Python 3",
   "language": "python",
   "name": "python3"
  },
  "language_info": {
   "codemirror_mode": {
    "name": "ipython",
    "version": 3
   },
   "file_extension": ".py",
   "mimetype": "text/x-python",
   "name": "python",
   "nbconvert_exporter": "python",
   "pygments_lexer": "ipython3",
   "version": "3.5.2"
  }
 },
 "nbformat": 4,
 "nbformat_minor": 2
}
