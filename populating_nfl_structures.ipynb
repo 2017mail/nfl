{
 "cells": [
  {
   "cell_type": "code",
   "execution_count": null,
   "metadata": {
    "collapsed": true
   },
   "outputs": [],
   "source": [
    "%run datanotebook.ipynb"
   ]
  },
  {
   "cell_type": "code",
   "execution_count": 2,
   "metadata": {
    "collapsed": false
   },
   "outputs": [],
   "source": [
    "nfl_teams = {}\n",
    "for Passer in Passer_data:\n",
    "    team_of_Passer = Passer_data[Passer][0]['posteam']\n",
    "    if team_of_Passer in nfl_teams:\n",
    "        nfl_teams[team_of_Passer].Passers.add(Passer)\n",
    "    else:\n",
    "        nfl_teams[team_of_Passer] = team(team_of_Passer,set([]),set([]))\n",
    "        \n",
    "\n",
    "for Rusher in Rusher_data:\n",
    "    team_of_Rusher = Rusher_data[Rusher][0]['posteam']\n",
    "    if team_of_Rusher in nfl_teams:\n",
    "        nfl_teams[team_of_Rusher].Rushers.add(Rusher)\n",
    "    else:\n",
    "        nfl_teams[team_of_Rusher] = team(team_of_Rusher,set([]),set([]))"
   ]
  },
  {
   "cell_type": "code",
   "execution_count": null,
   "metadata": {
    "collapsed": true
   },
   "outputs": [],
   "source": [
    "nfl_teams = {}\n",
    "for Passer in Passer_data:\n",
    "    team_of_Passer = Passer_data[Passer][0]['posteam']\n",
    "    if team_of_Passer in nfl_teams:\n",
    "        nfl_teams[team_of_Passer].Passers.add(Passer)\n",
    "    else:\n",
    "        nfl_teams[team_of_Passer] = team(team_of_Passer,set([]),set([]))\n",
    "        \n",
    "\n",
    "for Rusher in Rusher_data:\n",
    "    team_of_Rusher = Rusher_data[Rusher][0]['posteam']\n",
    "    if team_of_Rusher in nfl_teams:\n",
    "        nfl_teams[team_of_Rusher].Rushers.add(Rusher)\n",
    "    else:\n",
    "        nfl_teams[team_of_Rusher] = team(team_of_Rusher,set([]),set([]))\n",
    "        \n"
   ]
  }
 ],
 "metadata": {
  "kernelspec": {
   "display_name": "Python 3",
   "language": "python",
   "name": "python3"
  },
  "language_info": {
   "codemirror_mode": {
    "name": "ipython",
    "version": 3
   },
   "file_extension": ".py",
   "mimetype": "text/x-python",
   "name": "python",
   "nbconvert_exporter": "python",
   "pygments_lexer": "ipython3",
   "version": "3.5.2"
  }
 },
 "nbformat": 4,
 "nbformat_minor": 2
}
