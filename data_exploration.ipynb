{
 "cells": [
  {
   "cell_type": "code",
   "execution_count": 6,
   "metadata": {
    "collapsed": true
   },
   "outputs": [],
   "source": [
    "import numpy as np\n",
    "import csv,os\n",
    "import pandas as pd\n",
    "import collections as col\n",
    "import matplotlib.pyplot as pl\n",
    "pd.set_option(\"display.max_columns\",100)"
   ]
  },
  {
   "cell_type": "code",
   "execution_count": 7,
   "metadata": {
    "collapsed": false
   },
   "outputs": [
    {
     "ename": "SyntaxError",
     "evalue": "invalid syntax (<ipython-input-7-4cea6b8b14f4>, line 21)",
     "output_type": "error",
     "traceback": [
      "\u001b[0;36m  File \u001b[0;32m\"<ipython-input-7-4cea6b8b14f4>\"\u001b[0;36m, line \u001b[0;32m21\u001b[0m\n\u001b[0;31m    return {'play_type':'Pass', 'player', 'team' :team, 'player' 'T.Brady'}\u001b[0m\n\u001b[0m                                        ^\u001b[0m\n\u001b[0;31mSyntaxError\u001b[0m\u001b[0;31m:\u001b[0m invalid syntax\n"
     ]
    },
    {
     "name": "stdout",
     "output_type": "stream",
     "text": [
      "Over entire dataset: \n",
      " Yards per pass: 7.11328908782 ,  Yards per rush: 4.31436417728\n"
     ]
    }
   ],
   "source": [
    "%run datanotebook.ipynb"
   ]
  },
  {
   "cell_type": "code",
   "execution_count": null,
   "metadata": {
    "collapsed": true
   },
   "outputs": [],
   "source": []
  },
  {
   "cell_type": "code",
   "execution_count": 9,
   "metadata": {
    "collapsed": false
   },
   "outputs": [
    {
     "name": "stdout",
     "output_type": "stream",
     "text": [
      "7.86186186186 10.6243029301 666\n"
     ]
    },
    {
     "data": {
      "image/png": "[encoded data removed]",
      "text/plain": [
       "<matplotlib.figure.Figure at 0x10d4ba048>"
      ]
     },
     "metadata": {},
     "output_type": "display_data"
    }
   ],
   "source": [
    "brady_rushes = [Rush['YardsGained'] for Rush in Rusher_data['T.Brady']]\n",
    "brady_passes = [Pass['YardsGained'] for Pass in Passer_data['T.Brady']]\n",
    "total_yards_Passer = sum(brady_passes)\n",
    "\n",
    "print(total_yards_Passer/len(Passer_data['T.Brady']), np.std([Pass['YardsGained'] for Pass in Passer_data['T.Brady']]),len(Passer_data['T.Brady']))\n",
    "\n",
    "brady_total_passes = len(Passer_data['T.Brady'])\n",
    "brady_passes_dist_counter = col.Counter(brady_passes)\n",
    "\n",
    "brady_passes_dist_list = [0]*201\n",
    "\n",
    "for yard in brady_passes_dist_counter:\n",
    "    brady_passes_dist_list[yard+100] = float(brady_passes_dist_counter[yard])  \n",
    "    \n",
    "brady_passes_probability_list = [count/brady_total_passes for count in brady_passes_dist_list]\n",
    "#print(brady_passes_probability_list, sum(brady_passes_probability_list))\n",
    "#pl.hist([Pass['YardsGained'] for Pass in Passers['T.Brady']], bins=range(-100,100))\n",
    "#pl.show()\n",
    "simulated_brady_passes = []\n",
    "for i in range(1000):\n",
    "    pass_length = np.random.choice(np.arange(-100,101), p = brady_passes_probability_list)\n",
    "    simulated_brady_passes.append(pass_length)\n",
    "    \n",
    "pl.hist(simulated_brady_passes, bins=range(-100,100))\n",
    "pl.show()"
   ]
  },
  {
   "cell_type": "code",
   "execution_count": 10,
   "metadata": {
    "collapsed": false
   },
   "outputs": [
    {
     "data": {
      "text/plain": [
       "[0.0,\n",
       " 0.0,\n",
       " 0.0,\n",
       " 0.0,\n",
       " 0.0,\n",
       " 0.0,\n",
       " 0.0,\n",
       " 0.0,\n",
       " 0.0,\n",
       " 0.0,\n",
       " 0.0,\n",
       " 0.0,\n",
       " 0.0,\n",
       " 0.0,\n",
       " 0.0,\n",
       " 0.0,\n",
       " 0.0,\n",
       " 0.0,\n",
       " 0.0,\n",
       " 0.0,\n",
       " 0.0,\n",
       " 0.0,\n",
       " 0.0,\n",
       " 0.0,\n",
       " 0.0,\n",
       " 0.0,\n",
       " 0.0,\n",
       " 0.0,\n",
       " 0.0,\n",
       " 0.0,\n",
       " 0.0,\n",
       " 0.0,\n",
       " 0.0,\n",
       " 0.0,\n",
       " 0.0,\n",
       " 0.0,\n",
       " 0.0,\n",
       " 0.0,\n",
       " 0.0,\n",
       " 0.0,\n",
       " 0.0,\n",
       " 0.0,\n",
       " 0.0,\n",
       " 0.0,\n",
       " 0.0,\n",
       " 0.0,\n",
       " 0.0,\n",
       " 0.0,\n",
       " 0.0,\n",
       " 0.0,\n",
       " 0.0,\n",
       " 0.0,\n",
       " 0.0,\n",
       " 0.0,\n",
       " 0.0,\n",
       " 0.0,\n",
       " 0.0,\n",
       " 0.0,\n",
       " 0.0,\n",
       " 0.0,\n",
       " 0.0,\n",
       " 0.0,\n",
       " 0.0,\n",
       " 0.0,\n",
       " 0.0,\n",
       " 0.0,\n",
       " 0.0,\n",
       " 0.0,\n",
       " 0.0,\n",
       " 0.0,\n",
       " 0.0,\n",
       " 0.0,\n",
       " 0.0,\n",
       " 0.0,\n",
       " 0.0,\n",
       " 0.0,\n",
       " 0.0,\n",
       " 0.0,\n",
       " 0.0,\n",
       " 0.0,\n",
       " 0.0,\n",
       " 0.0,\n",
       " 0.0,\n",
       " 0.0,\n",
       " 0.0,\n",
       " 0.0,\n",
       " 0.0,\n",
       " 0.0,\n",
       " 0.0,\n",
       " 0.0,\n",
       " 0.0,\n",
       " 0.0,\n",
       " 0.0,\n",
       " 0.0,\n",
       " 0.0,\n",
       " 0.0045045045045045045,\n",
       " 0.0,\n",
       " 0.0015015015015015015,\n",
       " 0.0045045045045045045,\n",
       " 0.0045045045045045045,\n",
       " 0.36486486486486486,\n",
       " 0.024024024024024024,\n",
       " 0.02252252252252252,\n",
       " 0.018018018018018018,\n",
       " 0.025525525525525526,\n",
       " 0.04054054054054054,\n",
       " 0.04354354354354354,\n",
       " 0.04054054054054054,\n",
       " 0.046546546546546545,\n",
       " 0.03753753753753754,\n",
       " 0.03453453453453453,\n",
       " 0.036036036036036036,\n",
       " 0.03453453453453453,\n",
       " 0.021021021021021023,\n",
       " 0.02252252252252252,\n",
       " 0.013513513513513514,\n",
       " 0.016516516516516516,\n",
       " 0.009009009009009009,\n",
       " 0.012012012012012012,\n",
       " 0.016516516516516516,\n",
       " 0.009009009009009009,\n",
       " 0.006006006006006006,\n",
       " 0.0075075075075075074,\n",
       " 0.006006006006006006,\n",
       " 0.010510510510510511,\n",
       " 0.006006006006006006,\n",
       " 0.0045045045045045045,\n",
       " 0.009009009009009009,\n",
       " 0.003003003003003003,\n",
       " 0.003003003003003003,\n",
       " 0.006006006006006006,\n",
       " 0.0015015015015015015,\n",
       " 0.0,\n",
       " 0.0045045045045045045,\n",
       " 0.0015015015015015015,\n",
       " 0.003003003003003003,\n",
       " 0.0015015015015015015,\n",
       " 0.0,\n",
       " 0.0,\n",
       " 0.0015015015015015015,\n",
       " 0.0015015015015015015,\n",
       " 0.0015015015015015015,\n",
       " 0.0,\n",
       " 0.0015015015015015015,\n",
       " 0.0,\n",
       " 0.0015015015015015015,\n",
       " 0.0,\n",
       " 0.0015015015015015015,\n",
       " 0.0015015015015015015,\n",
       " 0.0,\n",
       " 0.0,\n",
       " 0.0015015015015015015,\n",
       " 0.0015015015015015015,\n",
       " 0.0,\n",
       " 0.0015015015015015015,\n",
       " 0.0,\n",
       " 0.0,\n",
       " 0.0,\n",
       " 0.0,\n",
       " 0.0015015015015015015,\n",
       " 0.0,\n",
       " 0.0,\n",
       " 0.0,\n",
       " 0.0015015015015015015,\n",
       " 0.0,\n",
       " 0.0,\n",
       " 0.0,\n",
       " 0.0,\n",
       " 0.0015015015015015015,\n",
       " 0.0,\n",
       " 0.0015015015015015015,\n",
       " 0.0,\n",
       " 0.0,\n",
       " 0.0,\n",
       " 0.0,\n",
       " 0.0,\n",
       " 0.0015015015015015015,\n",
       " 0.0,\n",
       " 0.0,\n",
       " 0.0,\n",
       " 0.0,\n",
       " 0.0,\n",
       " 0.0,\n",
       " 0.0,\n",
       " 0.0,\n",
       " 0.0,\n",
       " 0.0,\n",
       " 0.0,\n",
       " 0.0,\n",
       " 0.0,\n",
       " 0.0,\n",
       " 0.0,\n",
       " 0.0,\n",
       " 0.0,\n",
       " 0.0,\n",
       " 0.0,\n",
       " 0.0,\n",
       " 0.0,\n",
       " 0.0,\n",
       " 0.0,\n",
       " 0.0]"
      ]
     },
     "execution_count": 10,
     "metadata": {},
     "output_type": "execute_result"
    }
   ],
   "source": [
    "brady_passes_probability_list"
   ]
  },
  {
   "cell_type": "code",
   "execution_count": null,
   "metadata": {
    "collapsed": true
   },
   "outputs": [],
   "source": []
  }
 ],
 "metadata": {
  "kernelspec": {
   "display_name": "Python 3",
   "language": "python",
   "name": "python3"
  },
  "language_info": {
   "codemirror_mode": {
    "name": "ipython",
    "version": 3
   },
   "file_extension": ".py",
   "mimetype": "text/x-python",
   "name": "python",
   "nbconvert_exporter": "python",
   "pygments_lexer": "ipython3",
   "version": "3.5.2"
  }
 },
 "nbformat": 4,
 "nbformat_minor": 2
}
